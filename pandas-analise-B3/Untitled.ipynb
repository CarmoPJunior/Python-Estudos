{
 "cells": [
  {
   "cell_type": "markdown",
   "id": "5bdc2969-3d56-4aa4-8c3c-5079c6146e62",
   "metadata": {
    "tags": []
   },
   "source": [
    "+jk.9### Importa as bibliotecas"
   ]
  },
  {
   "cell_type": "code",
   "execution_count": null,
   "id": "09623a4e-0c9c-4a9e-b647-a659165a9fd2",
   "metadata": {},
   "outputs": [],
   "source": []
  },
  {
   "cell_type": "code",
   "execution_count": 47,
   "id": "02b23f34",
   "metadata": {},
   "outputs": [
    {
     "data": {
      "text/plain": [
       "Timestamp('2020-03-14 12:32:52')"
      ]
     },
     "execution_count": 47,
     "metadata": {},
     "output_type": "execute_result"
    }
   ],
   "source": [
    "import pandas as pd\n",
    "import warnings\n",
    "import matplotlib.pyplot as plt\n",
    "%matplotlib inline\n",
    "warnings.simplefilter(\"ignore\")\n",
    "\n",
    "pd.Timestamp.fromtimestamp(int(\"1584199972\"))"
   ]
  },
  {
   "cell_type": "markdown",
   "id": "1980261c-19c1-4bf2-ae15-45c2ffcda5fa",
   "metadata": {
    "jp-MarkdownHeadingCollapsed": true,
    "tags": []
   },
   "source": [
    "##### Exibe a versão do Panda"
   ]
  },
  {
   "cell_type": "code",
   "execution_count": 48,
   "id": "9892973e-23c8-4c0d-a599-869a54cb6d24",
   "metadata": {},
   "outputs": [
    {
     "data": {
      "text/plain": [
       "'1.3.4'"
      ]
     },
     "execution_count": 48,
     "metadata": {},
     "output_type": "execute_result"
    }
   ],
   "source": [
    "pd.__version__"
   ]
  },
  {
   "cell_type": "markdown",
   "id": "0448a5f1-129e-4acd-9ce9-d56246b0aa19",
   "metadata": {
    "jp-MarkdownHeadingCollapsed": true,
    "tags": []
   },
   "source": [
    "##### Carrega o Arquivo "
   ]
  },
  {
   "cell_type": "code",
   "execution_count": 49,
   "id": "be674ee4-5114-4ba3-9588-5676f83f1c25",
   "metadata": {},
   "outputs": [],
   "source": [
    "df = pd.read_excel('movimentacao-2022-ate-31-10.xlsx', sheet_name=\"Movimentação\")"
   ]
  },
  {
   "cell_type": "markdown",
   "id": "9d15370d-5ec4-40bf-baee-e52046518eb8",
   "metadata": {
    "jp-MarkdownHeadingCollapsed": true,
    "tags": []
   },
   "source": [
    "##### Exibe as linhas do arquivo"
   ]
  },
  {
   "cell_type": "code",
   "execution_count": 50,
   "id": "277e75d3-616d-4668-b9c7-246e45db14d2",
   "metadata": {},
   "outputs": [
    {
     "data": {
      "text/html": [
       "<div>\n",
       "<style scoped>\n",
       "    .dataframe tbody tr th:only-of-type {\n",
       "        vertical-align: middle;\n",
       "    }\n",
       "\n",
       "    .dataframe tbody tr th {\n",
       "        vertical-align: top;\n",
       "    }\n",
       "\n",
       "    .dataframe thead th {\n",
       "        text-align: right;\n",
       "    }\n",
       "</style>\n",
       "<table border=\"1\" class=\"dataframe\">\n",
       "  <thead>\n",
       "    <tr style=\"text-align: right;\">\n",
       "      <th></th>\n",
       "      <th>Entrada/Saída</th>\n",
       "      <th>Data</th>\n",
       "      <th>Movimentação</th>\n",
       "      <th>Produto</th>\n",
       "      <th>Instituição</th>\n",
       "      <th>Quantidade</th>\n",
       "      <th>Preço unitário</th>\n",
       "      <th>Valor da Operação</th>\n",
       "    </tr>\n",
       "  </thead>\n",
       "  <tbody>\n",
       "    <tr>\n",
       "      <th>0</th>\n",
       "      <td>Credito</td>\n",
       "      <td>18/10/2022</td>\n",
       "      <td>Dividendo</td>\n",
       "      <td>VIVT3 - TELEFONICA BRASIL S/A</td>\n",
       "      <td>CLEAR CORRETORA - GRUPO XP</td>\n",
       "      <td>6</td>\n",
       "      <td>1.21</td>\n",
       "      <td>7.27</td>\n",
       "    </tr>\n",
       "    <tr>\n",
       "      <th>1</th>\n",
       "      <td>Credito</td>\n",
       "      <td>17/10/2022</td>\n",
       "      <td>Rendimento</td>\n",
       "      <td>BCFF11 - FDO INV IMOB - FII BTG PACTUAL FUNDO ...</td>\n",
       "      <td>CLEAR CORRETORA - GRUPO XP</td>\n",
       "      <td>12</td>\n",
       "      <td>0.56</td>\n",
       "      <td>6.72</td>\n",
       "    </tr>\n",
       "    <tr>\n",
       "      <th>2</th>\n",
       "      <td>Credito</td>\n",
       "      <td>17/10/2022</td>\n",
       "      <td>Rendimento</td>\n",
       "      <td>SADI11 - SANTANDER PAPÉIS IMOBILIÁRIOS CDI FII</td>\n",
       "      <td>CLEAR CORRETORA - GRUPO XP</td>\n",
       "      <td>2</td>\n",
       "      <td>1.05</td>\n",
       "      <td>2.1</td>\n",
       "    </tr>\n",
       "    <tr>\n",
       "      <th>3</th>\n",
       "      <td>Credito</td>\n",
       "      <td>13/10/2022</td>\n",
       "      <td>Dividendo</td>\n",
       "      <td>RAIZ4 - RAIZEN S.A.</td>\n",
       "      <td>CLEAR CORRETORA - GRUPO XP</td>\n",
       "      <td>50</td>\n",
       "      <td>0.03</td>\n",
       "      <td>1.57</td>\n",
       "    </tr>\n",
       "    <tr>\n",
       "      <th>4</th>\n",
       "      <td>Credito</td>\n",
       "      <td>11/10/2022</td>\n",
       "      <td>Juros Sobre Capital Próprio</td>\n",
       "      <td>MOVI3 - MOVIDA</td>\n",
       "      <td>CLEAR CORRETORA - GRUPO XP</td>\n",
       "      <td>15</td>\n",
       "      <td>0.15</td>\n",
       "      <td>1.87</td>\n",
       "    </tr>\n",
       "  </tbody>\n",
       "</table>\n",
       "</div>"
      ],
      "text/plain": [
       "  Entrada/Saída        Data                 Movimentação  \\\n",
       "0       Credito  18/10/2022                    Dividendo   \n",
       "1       Credito  17/10/2022                   Rendimento   \n",
       "2       Credito  17/10/2022                   Rendimento   \n",
       "3       Credito  13/10/2022                    Dividendo   \n",
       "4       Credito  11/10/2022  Juros Sobre Capital Próprio   \n",
       "\n",
       "                                             Produto  \\\n",
       "0                      VIVT3 - TELEFONICA BRASIL S/A   \n",
       "1  BCFF11 - FDO INV IMOB - FII BTG PACTUAL FUNDO ...   \n",
       "2     SADI11 - SANTANDER PAPÉIS IMOBILIÁRIOS CDI FII   \n",
       "3                                RAIZ4 - RAIZEN S.A.   \n",
       "4                               MOVI3 - MOVIDA         \n",
       "\n",
       "                  Instituição  Quantidade Preço unitário Valor da Operação  \n",
       "0  CLEAR CORRETORA - GRUPO XP           6           1.21              7.27  \n",
       "1  CLEAR CORRETORA - GRUPO XP          12           0.56              6.72  \n",
       "2  CLEAR CORRETORA - GRUPO XP           2           1.05               2.1  \n",
       "3  CLEAR CORRETORA - GRUPO XP          50           0.03              1.57  \n",
       "4  CLEAR CORRETORA - GRUPO XP          15           0.15              1.87  "
      ]
     },
     "execution_count": 50,
     "metadata": {},
     "output_type": "execute_result"
    }
   ],
   "source": [
    "df.head()"
   ]
  },
  {
   "cell_type": "markdown",
   "id": "dd605970-64d6-47e3-83bf-e9ebaf04e67c",
   "metadata": {
    "jp-MarkdownHeadingCollapsed": true,
    "tags": []
   },
   "source": [
    "##### Exibe as Colunas do Arquivo"
   ]
  },
  {
   "cell_type": "code",
   "execution_count": 51,
   "id": "1c409699-10c2-4c93-936a-fdf398fa0d37",
   "metadata": {},
   "outputs": [
    {
     "data": {
      "text/plain": [
       "Index(['Entrada/Saída', 'Data', 'Movimentação', 'Produto', 'Instituição',\n",
       "       'Quantidade', 'Preço unitário', 'Valor da Operação'],\n",
       "      dtype='object')"
      ]
     },
     "execution_count": 51,
     "metadata": {},
     "output_type": "execute_result"
    }
   ],
   "source": [
    "df.columns"
   ]
  },
  {
   "cell_type": "markdown",
   "id": "39d1348f-d577-4915-b0f9-4a5318eb63bf",
   "metadata": {
    "jp-MarkdownHeadingCollapsed": true,
    "tags": []
   },
   "source": [
    "##### Exibe os tipos de cada coluna "
   ]
  },
  {
   "cell_type": "code",
   "execution_count": 52,
   "id": "3a208145-864e-417a-bcdd-b87fa9f82d6c",
   "metadata": {},
   "outputs": [
    {
     "name": "stdout",
     "output_type": "stream",
     "text": [
      "<class 'pandas.core.frame.DataFrame'>\n",
      "RangeIndex: 226 entries, 0 to 225\n",
      "Data columns (total 8 columns):\n",
      " #   Column             Non-Null Count  Dtype \n",
      "---  ------             --------------  ----- \n",
      " 0   Entrada/Saída      226 non-null    object\n",
      " 1   Data               226 non-null    object\n",
      " 2   Movimentação       226 non-null    object\n",
      " 3   Produto            226 non-null    object\n",
      " 4   Instituição        226 non-null    object\n",
      " 5   Quantidade         226 non-null    int64 \n",
      " 6   Preço unitário     226 non-null    object\n",
      " 7   Valor da Operação  226 non-null    object\n",
      "dtypes: int64(1), object(7)\n",
      "memory usage: 14.2+ KB\n"
     ]
    }
   ],
   "source": [
    "df.info()"
   ]
  },
  {
   "cell_type": "markdown",
   "id": "b3030a44-e941-4764-9952-8fe19d9ed5fc",
   "metadata": {
    "jp-MarkdownHeadingCollapsed": true,
    "tags": []
   },
   "source": [
    "##### Trata os dados das colunas ('Preço unitário', 'Valor da Operação', 'Produto')"
   ]
  },
  {
   "cell_type": "code",
   "execution_count": 53,
   "id": "574a23d8-ff4b-403b-8143-291425c3c725",
   "metadata": {},
   "outputs": [],
   "source": [
    "df['Preço unitário'] = df['Preço unitário'].apply(lambda x : str(x).replace(\"-\", \"0\"))\n",
    "df['Valor da Operação'] = df['Valor da Operação'].apply(lambda x : str(x).replace(\"-\", \"0\"))\n",
    "df[\"Produto\"] = df[\"Produto\"].str.split(\"-\").str.get(0).str.strip()"
   ]
  },
  {
   "cell_type": "markdown",
   "id": "ee1f4f63-a464-4112-a92c-996fa79d114d",
   "metadata": {
    "jp-MarkdownHeadingCollapsed": true,
    "tags": []
   },
   "source": [
    "##### Converte as colunas ('Preço unitário', 'Valor da Operação') para o float"
   ]
  },
  {
   "cell_type": "code",
   "execution_count": 54,
   "id": "748d02f1-8864-4285-8a47-05da1682a157",
   "metadata": {},
   "outputs": [],
   "source": [
    "df['Preço unitário'] =df['Preço unitário'].astype('float64')\n",
    "df['Valor da Operação'] =df['Valor da Operação'].astype('float64')"
   ]
  },
  {
   "cell_type": "markdown",
   "id": "d57e43c8-790b-4fb4-aad7-bca04a2db427",
   "metadata": {
    "tags": []
   },
   "source": [
    "##### Converte a coluna ('Data') para o tipo Date"
   ]
  },
  {
   "cell_type": "code",
   "execution_count": 55,
   "id": "4c35a7e1-3c2e-40d5-afdf-c6ab4c6fc311",
   "metadata": {},
   "outputs": [],
   "source": [
    "df['Data'] = pd.to_datetime(df['Data'], infer_datetime_format=True)"
   ]
  },
  {
   "cell_type": "markdown",
   "id": "5b239b2b-58c7-47a7-b399-6eb6e4c62b59",
   "metadata": {
    "jp-MarkdownHeadingCollapsed": true,
    "tags": []
   },
   "source": [
    "##### Count"
   ]
  },
  {
   "cell_type": "code",
   "execution_count": 56,
   "id": "a3f971ae-9483-42cd-a112-fd6c7f5c5dbc",
   "metadata": {},
   "outputs": [
    {
     "data": {
      "text/plain": [
       "Entrada/Saída        226\n",
       "Data                 226\n",
       "Movimentação         226\n",
       "Produto              226\n",
       "Instituição          226\n",
       "Quantidade           226\n",
       "Preço unitário       226\n",
       "Valor da Operação    226\n",
       "dtype: int64"
      ]
     },
     "execution_count": 56,
     "metadata": {},
     "output_type": "execute_result"
    }
   ],
   "source": [
    "df.count()"
   ]
  },
  {
   "cell_type": "markdown",
   "id": "e9621208-fc07-4805-80b1-3125cea39a51",
   "metadata": {
    "jp-MarkdownHeadingCollapsed": true,
    "tags": []
   },
   "source": [
    "##### Discribe"
   ]
  },
  {
   "cell_type": "code",
   "execution_count": 57,
   "id": "0d67e74f-8afa-4adc-ba05-0a8568792a42",
   "metadata": {},
   "outputs": [
    {
     "data": {
      "text/html": [
       "<div>\n",
       "<style scoped>\n",
       "    .dataframe tbody tr th:only-of-type {\n",
       "        vertical-align: middle;\n",
       "    }\n",
       "\n",
       "    .dataframe tbody tr th {\n",
       "        vertical-align: top;\n",
       "    }\n",
       "\n",
       "    .dataframe thead th {\n",
       "        text-align: right;\n",
       "    }\n",
       "</style>\n",
       "<table border=\"1\" class=\"dataframe\">\n",
       "  <thead>\n",
       "    <tr style=\"text-align: right;\">\n",
       "      <th></th>\n",
       "      <th>Quantidade</th>\n",
       "      <th>Preço unitário</th>\n",
       "      <th>Valor da Operação</th>\n",
       "    </tr>\n",
       "  </thead>\n",
       "  <tbody>\n",
       "    <tr>\n",
       "      <th>count</th>\n",
       "      <td>226.000000</td>\n",
       "      <td>226.000000</td>\n",
       "      <td>226.000000</td>\n",
       "    </tr>\n",
       "    <tr>\n",
       "      <th>mean</th>\n",
       "      <td>19.230088</td>\n",
       "      <td>13.916991</td>\n",
       "      <td>131.807345</td>\n",
       "    </tr>\n",
       "    <tr>\n",
       "      <th>std</th>\n",
       "      <td>35.363511</td>\n",
       "      <td>21.801944</td>\n",
       "      <td>219.824416</td>\n",
       "    </tr>\n",
       "    <tr>\n",
       "      <th>min</th>\n",
       "      <td>0.000000</td>\n",
       "      <td>0.000000</td>\n",
       "      <td>0.000000</td>\n",
       "    </tr>\n",
       "    <tr>\n",
       "      <th>25%</th>\n",
       "      <td>10.000000</td>\n",
       "      <td>0.540000</td>\n",
       "      <td>6.480000</td>\n",
       "    </tr>\n",
       "    <tr>\n",
       "      <th>50%</th>\n",
       "      <td>10.000000</td>\n",
       "      <td>4.670000</td>\n",
       "      <td>54.025000</td>\n",
       "    </tr>\n",
       "    <tr>\n",
       "      <th>75%</th>\n",
       "      <td>20.000000</td>\n",
       "      <td>17.905000</td>\n",
       "      <td>201.100000</td>\n",
       "    </tr>\n",
       "    <tr>\n",
       "      <th>max</th>\n",
       "      <td>360.000000</td>\n",
       "      <td>138.600000</td>\n",
       "      <td>2009.540000</td>\n",
       "    </tr>\n",
       "  </tbody>\n",
       "</table>\n",
       "</div>"
      ],
      "text/plain": [
       "       Quantidade  Preço unitário  Valor da Operação\n",
       "count  226.000000      226.000000         226.000000\n",
       "mean    19.230088       13.916991         131.807345\n",
       "std     35.363511       21.801944         219.824416\n",
       "min      0.000000        0.000000           0.000000\n",
       "25%     10.000000        0.540000           6.480000\n",
       "50%     10.000000        4.670000          54.025000\n",
       "75%     20.000000       17.905000         201.100000\n",
       "max    360.000000      138.600000        2009.540000"
      ]
     },
     "execution_count": 57,
     "metadata": {},
     "output_type": "execute_result"
    }
   ],
   "source": [
    "df.describe()"
   ]
  },
  {
   "cell_type": "markdown",
   "id": "825e2d28-5a39-497b-8f11-f79d4006d408",
   "metadata": {
    "jp-MarkdownHeadingCollapsed": true,
    "tags": []
   },
   "source": [
    "##### Remove a coluna \"Instituição\" e exibe "
   ]
  },
  {
   "cell_type": "code",
   "execution_count": 58,
   "id": "d6cab1f5-a3ce-432d-9b50-1f9a38a2db41",
   "metadata": {},
   "outputs": [],
   "source": [
    "df.drop(['Instituição'], axis=1, inplace=True)"
   ]
  },
  {
   "cell_type": "markdown",
   "id": "235164e5-76f9-4d79-b6ba-505fcf86ac1a",
   "metadata": {},
   "source": [
    "##### Agrupa por tipo de movimentação"
   ]
  },
  {
   "cell_type": "code",
   "execution_count": 59,
   "id": "770f8b75-bf86-48d5-b937-19130c6a827c",
   "metadata": {},
   "outputs": [
    {
     "data": {
      "text/html": [
       "<div>\n",
       "<style scoped>\n",
       "    .dataframe tbody tr th:only-of-type {\n",
       "        vertical-align: middle;\n",
       "    }\n",
       "\n",
       "    .dataframe tbody tr th {\n",
       "        vertical-align: top;\n",
       "    }\n",
       "\n",
       "    .dataframe thead th {\n",
       "        text-align: right;\n",
       "    }\n",
       "</style>\n",
       "<table border=\"1\" class=\"dataframe\">\n",
       "  <thead>\n",
       "    <tr style=\"text-align: right;\">\n",
       "      <th></th>\n",
       "      <th>Quantidade</th>\n",
       "      <th>Preço unitário</th>\n",
       "      <th>Valor da Operação</th>\n",
       "    </tr>\n",
       "    <tr>\n",
       "      <th>Movimentação</th>\n",
       "      <th></th>\n",
       "      <th></th>\n",
       "      <th></th>\n",
       "    </tr>\n",
       "  </thead>\n",
       "  <tbody>\n",
       "    <tr>\n",
       "      <th>Atualização</th>\n",
       "      <td>90</td>\n",
       "      <td>0.00</td>\n",
       "      <td>0.00</td>\n",
       "    </tr>\n",
       "    <tr>\n",
       "      <th>Direito de Subscrição</th>\n",
       "      <td>11</td>\n",
       "      <td>0.00</td>\n",
       "      <td>0.00</td>\n",
       "    </tr>\n",
       "    <tr>\n",
       "      <th>Direitos de Subscrição - Não Exercido</th>\n",
       "      <td>0</td>\n",
       "      <td>0.00</td>\n",
       "      <td>0.00</td>\n",
       "    </tr>\n",
       "    <tr>\n",
       "      <th>Dividendo</th>\n",
       "      <td>367</td>\n",
       "      <td>19.05</td>\n",
       "      <td>221.63</td>\n",
       "    </tr>\n",
       "    <tr>\n",
       "      <th>Juros Sobre Capital Próprio</th>\n",
       "      <td>712</td>\n",
       "      <td>2.47</td>\n",
       "      <td>55.32</td>\n",
       "    </tr>\n",
       "    <tr>\n",
       "      <th>Rendimento</th>\n",
       "      <td>971</td>\n",
       "      <td>29.21</td>\n",
       "      <td>374.90</td>\n",
       "    </tr>\n",
       "    <tr>\n",
       "      <th>Transferência - Liquidação</th>\n",
       "      <td>2195</td>\n",
       "      <td>3094.51</td>\n",
       "      <td>29136.61</td>\n",
       "    </tr>\n",
       "  </tbody>\n",
       "</table>\n",
       "</div>"
      ],
      "text/plain": [
       "                                       Quantidade  Preço unitário  \\\n",
       "Movimentação                                                        \n",
       "Atualização                                    90            0.00   \n",
       "Direito de Subscrição                          11            0.00   \n",
       "Direitos de Subscrição - Não Exercido           0            0.00   \n",
       "Dividendo                                     367           19.05   \n",
       "Juros Sobre Capital Próprio                   712            2.47   \n",
       "Rendimento                                    971           29.21   \n",
       "Transferência - Liquidação                   2195         3094.51   \n",
       "\n",
       "                                       Valor da Operação  \n",
       "Movimentação                                              \n",
       "Atualização                                         0.00  \n",
       "Direito de Subscrição                               0.00  \n",
       "Direitos de Subscrição - Não Exercido               0.00  \n",
       "Dividendo                                         221.63  \n",
       "Juros Sobre Capital Próprio                        55.32  \n",
       "Rendimento                                        374.90  \n",
       "Transferência - Liquidação                      29136.61  "
      ]
     },
     "execution_count": 59,
     "metadata": {},
     "output_type": "execute_result"
    }
   ],
   "source": [
    "df_sum_Movimentacao = df.groupby([\"Movimentação\"]).sum()  \n",
    "df_sum_Movimentacao"
   ]
  },
  {
   "cell_type": "markdown",
   "id": "52fbe1ea-8764-44ea-92cc-deb04b93cc4a",
   "metadata": {},
   "source": [
    "##### Filtra as informações da coluna movimentações\n"
   ]
  },
  {
   "cell_type": "code",
   "execution_count": 60,
   "id": "4260ea06-6540-4f6a-8a42-62551ee4e5ff",
   "metadata": {},
   "outputs": [
    {
     "name": "stdout",
     "output_type": "stream",
     "text": [
      "Entrada/Saída        CreditoCreditoCreditoCreditoCreditoCreditoCred...\n",
      "Movimentação         DividendoRendimentoRendimentoDividendoJuros So...\n",
      "Produto              VIVT3BCFF11SADI11RAIZ4MOVI3ITSA4ETER3BCFF11BRC...\n",
      "Quantidade                                                        2050\n",
      "Preço unitário                                                   50.73\n",
      "Valor da Operação                                               651.85\n",
      "dtype: object\n"
     ]
    }
   ],
   "source": [
    "types_incomes = ['Juros Sobre Capital Próprio','Rendimento', 'Dividendo']\n",
    "df_income_only = df[df['Movimentação'].isin(types_incomes)]\n",
    "print(df_income_only.sum());"
   ]
  },
  {
   "cell_type": "markdown",
   "id": "cd4f47b5-2431-4bf3-8616-b1b28ad49dad",
   "metadata": {},
   "source": [
    "## "
   ]
  },
  {
   "cell_type": "markdown",
   "id": "fcbf79f0-3cc2-4d36-b0ed-c92135772115",
   "metadata": {},
   "source": [
    "##### Exibir rendimentos agrupado por mês"
   ]
  },
  {
   "cell_type": "code",
   "execution_count": 61,
   "id": "fe5a2ee7-3df0-42a1-a09b-ab0c7124b8df",
   "metadata": {},
   "outputs": [
    {
     "data": {
      "text/html": [
       "<div>\n",
       "<style scoped>\n",
       "    .dataframe tbody tr th:only-of-type {\n",
       "        vertical-align: middle;\n",
       "    }\n",
       "\n",
       "    .dataframe tbody tr th {\n",
       "        vertical-align: top;\n",
       "    }\n",
       "\n",
       "    .dataframe thead th {\n",
       "        text-align: right;\n",
       "    }\n",
       "</style>\n",
       "<table border=\"1\" class=\"dataframe\">\n",
       "  <thead>\n",
       "    <tr style=\"text-align: right;\">\n",
       "      <th></th>\n",
       "      <th></th>\n",
       "      <th>Valor da Operação</th>\n",
       "    </tr>\n",
       "    <tr>\n",
       "      <th>Ano</th>\n",
       "      <th>Mes</th>\n",
       "      <th></th>\n",
       "    </tr>\n",
       "  </thead>\n",
       "  <tbody>\n",
       "    <tr>\n",
       "      <th rowspan=\"10\" valign=\"top\">2022</th>\n",
       "      <th>1</th>\n",
       "      <td>31.46</td>\n",
       "    </tr>\n",
       "    <tr>\n",
       "      <th>2</th>\n",
       "      <td>87.27</td>\n",
       "    </tr>\n",
       "    <tr>\n",
       "      <th>3</th>\n",
       "      <td>57.25</td>\n",
       "    </tr>\n",
       "    <tr>\n",
       "      <th>4</th>\n",
       "      <td>106.82</td>\n",
       "    </tr>\n",
       "    <tr>\n",
       "      <th>5</th>\n",
       "      <td>156.72</td>\n",
       "    </tr>\n",
       "    <tr>\n",
       "      <th>6</th>\n",
       "      <td>49.91</td>\n",
       "    </tr>\n",
       "    <tr>\n",
       "      <th>7</th>\n",
       "      <td>56.02</td>\n",
       "    </tr>\n",
       "    <tr>\n",
       "      <th>8</th>\n",
       "      <td>43.38</td>\n",
       "    </tr>\n",
       "    <tr>\n",
       "      <th>9</th>\n",
       "      <td>42.89</td>\n",
       "    </tr>\n",
       "    <tr>\n",
       "      <th>10</th>\n",
       "      <td>20.13</td>\n",
       "    </tr>\n",
       "  </tbody>\n",
       "</table>\n",
       "</div>"
      ],
      "text/plain": [
       "          Valor da Operação\n",
       "Ano  Mes                   \n",
       "2022 1                31.46\n",
       "     2                87.27\n",
       "     3                57.25\n",
       "     4               106.82\n",
       "     5               156.72\n",
       "     6                49.91\n",
       "     7                56.02\n",
       "     8                43.38\n",
       "     9                42.89\n",
       "     10               20.13"
      ]
     },
     "execution_count": 61,
     "metadata": {},
     "output_type": "execute_result"
    }
   ],
   "source": [
    "show_columns = ['Data', 'Valor da Operação']\n",
    "df_income_only.groupby([df['Data'].dt.year.rename('Ano'), df['Data'].dt.month.rename('Mes')])[show_columns].sum()  \n"
   ]
  },
  {
   "cell_type": "markdown",
   "id": "07f38d11",
   "metadata": {},
   "source": [
    "##### Exibe rendimentos agrupado por  Período e por Produto"
   ]
  },
  {
   "cell_type": "code",
   "execution_count": 70,
   "id": "411b8006-a5d2-4457-b45c-d81ee308eb1d",
   "metadata": {},
   "outputs": [
    {
     "data": {
      "text/html": [
       "<div>\n",
       "<style scoped>\n",
       "    .dataframe tbody tr th:only-of-type {\n",
       "        vertical-align: middle;\n",
       "    }\n",
       "\n",
       "    .dataframe tbody tr th {\n",
       "        vertical-align: top;\n",
       "    }\n",
       "\n",
       "    .dataframe thead th {\n",
       "        text-align: right;\n",
       "    }\n",
       "</style>\n",
       "<table border=\"1\" class=\"dataframe\">\n",
       "  <thead>\n",
       "    <tr style=\"text-align: right;\">\n",
       "      <th></th>\n",
       "      <th></th>\n",
       "      <th></th>\n",
       "      <th>Quantidade</th>\n",
       "      <th>Preço unitário</th>\n",
       "      <th>Valor da Operação</th>\n",
       "    </tr>\n",
       "    <tr>\n",
       "      <th>Ano</th>\n",
       "      <th>Mes</th>\n",
       "      <th>Produto</th>\n",
       "      <th></th>\n",
       "      <th></th>\n",
       "      <th></th>\n",
       "    </tr>\n",
       "  </thead>\n",
       "  <tbody>\n",
       "    <tr>\n",
       "      <th rowspan=\"10\" valign=\"top\">2022</th>\n",
       "      <th rowspan=\"4\" valign=\"top\">9</th>\n",
       "      <th>ETER3</th>\n",
       "      <td>15</td>\n",
       "      <td>0.30</td>\n",
       "      <td>3.80</td>\n",
       "    </tr>\n",
       "    <tr>\n",
       "      <th>MRFG3</th>\n",
       "      <td>20</td>\n",
       "      <td>0.76</td>\n",
       "      <td>15.15</td>\n",
       "    </tr>\n",
       "    <tr>\n",
       "      <th>MXRF11</th>\n",
       "      <td>60</td>\n",
       "      <td>0.11</td>\n",
       "      <td>6.60</td>\n",
       "    </tr>\n",
       "    <tr>\n",
       "      <th>SADI11</th>\n",
       "      <td>2</td>\n",
       "      <td>1.08</td>\n",
       "      <td>2.16</td>\n",
       "    </tr>\n",
       "    <tr>\n",
       "      <th rowspan=\"6\" valign=\"top\">10</th>\n",
       "      <th>BCFF11</th>\n",
       "      <td>12</td>\n",
       "      <td>0.56</td>\n",
       "      <td>6.72</td>\n",
       "    </tr>\n",
       "    <tr>\n",
       "      <th>ITSA4</th>\n",
       "      <td>30</td>\n",
       "      <td>0.02</td>\n",
       "      <td>0.60</td>\n",
       "    </tr>\n",
       "    <tr>\n",
       "      <th>MOVI3</th>\n",
       "      <td>15</td>\n",
       "      <td>0.15</td>\n",
       "      <td>1.87</td>\n",
       "    </tr>\n",
       "    <tr>\n",
       "      <th>RAIZ4</th>\n",
       "      <td>50</td>\n",
       "      <td>0.03</td>\n",
       "      <td>1.57</td>\n",
       "    </tr>\n",
       "    <tr>\n",
       "      <th>SADI11</th>\n",
       "      <td>2</td>\n",
       "      <td>1.05</td>\n",
       "      <td>2.10</td>\n",
       "    </tr>\n",
       "    <tr>\n",
       "      <th>VIVT3</th>\n",
       "      <td>6</td>\n",
       "      <td>1.21</td>\n",
       "      <td>7.27</td>\n",
       "    </tr>\n",
       "  </tbody>\n",
       "</table>\n",
       "</div>"
      ],
      "text/plain": [
       "                  Quantidade  Preço unitário  Valor da Operação\n",
       "Ano  Mes Produto                                               \n",
       "2022 9   ETER3            15            0.30               3.80\n",
       "         MRFG3            20            0.76              15.15\n",
       "         MXRF11           60            0.11               6.60\n",
       "         SADI11            2            1.08               2.16\n",
       "     10  BCFF11           12            0.56               6.72\n",
       "         ITSA4            30            0.02               0.60\n",
       "         MOVI3            15            0.15               1.87\n",
       "         RAIZ4            50            0.03               1.57\n",
       "         SADI11            2            1.05               2.10\n",
       "         VIVT3             6            1.21               7.27"
      ]
     },
     "execution_count": 70,
     "metadata": {},
     "output_type": "execute_result"
    }
   ],
   "source": [
    "df_grupby_produto_period = df_income_only.groupby([df['Data'].dt.year.rename('Ano'), df['Data'].dt.month.rename('Mes'), df['Produto']]).sum()  \n",
    "df_grupby_produto_period.tail(10)"
   ]
  },
  {
   "cell_type": "markdown",
   "id": "8781b82f",
   "metadata": {},
   "source": [
    "##### Valor da operação Agrupapado por produto"
   ]
  },
  {
   "cell_type": "code",
   "execution_count": 63,
   "id": "a165a5c7",
   "metadata": {},
   "outputs": [
    {
     "data": {
      "text/html": [
       "<div>\n",
       "<style scoped>\n",
       "    .dataframe tbody tr th:only-of-type {\n",
       "        vertical-align: middle;\n",
       "    }\n",
       "\n",
       "    .dataframe tbody tr th {\n",
       "        vertical-align: top;\n",
       "    }\n",
       "\n",
       "    .dataframe thead th {\n",
       "        text-align: right;\n",
       "    }\n",
       "</style>\n",
       "<table border=\"1\" class=\"dataframe\">\n",
       "  <thead>\n",
       "    <tr style=\"text-align: right;\">\n",
       "      <th></th>\n",
       "      <th>Valor da Operação</th>\n",
       "    </tr>\n",
       "    <tr>\n",
       "      <th>Produto</th>\n",
       "      <th></th>\n",
       "    </tr>\n",
       "  </thead>\n",
       "  <tbody>\n",
       "    <tr>\n",
       "      <th>BTCR11</th>\n",
       "      <td>168.00</td>\n",
       "    </tr>\n",
       "    <tr>\n",
       "      <th>BCFF11</th>\n",
       "      <td>66.27</td>\n",
       "    </tr>\n",
       "    <tr>\n",
       "      <th>BRCR11</th>\n",
       "      <td>65.34</td>\n",
       "    </tr>\n",
       "    <tr>\n",
       "      <th>MXRF11</th>\n",
       "      <td>53.58</td>\n",
       "    </tr>\n",
       "    <tr>\n",
       "      <th>PETR4</th>\n",
       "      <td>44.18</td>\n",
       "    </tr>\n",
       "    <tr>\n",
       "      <th>CIEL3</th>\n",
       "      <td>26.11</td>\n",
       "    </tr>\n",
       "    <tr>\n",
       "      <th>TAEE11</th>\n",
       "      <td>25.94</td>\n",
       "    </tr>\n",
       "    <tr>\n",
       "      <th>MRFG3</th>\n",
       "      <td>20.95</td>\n",
       "    </tr>\n",
       "    <tr>\n",
       "      <th>AGRO3</th>\n",
       "      <td>20.16</td>\n",
       "    </tr>\n",
       "    <tr>\n",
       "      <th>SADI11</th>\n",
       "      <td>19.08</td>\n",
       "    </tr>\n",
       "    <tr>\n",
       "      <th>WEGE3</th>\n",
       "      <td>17.82</td>\n",
       "    </tr>\n",
       "    <tr>\n",
       "      <th>BRAP4</th>\n",
       "      <td>15.76</td>\n",
       "    </tr>\n",
       "    <tr>\n",
       "      <th>MOVI3</th>\n",
       "      <td>14.60</td>\n",
       "    </tr>\n",
       "    <tr>\n",
       "      <th>BRAP3</th>\n",
       "      <td>14.33</td>\n",
       "    </tr>\n",
       "    <tr>\n",
       "      <th>FLRY3</th>\n",
       "      <td>10.64</td>\n",
       "    </tr>\n",
       "    <tr>\n",
       "      <th>ABCB4</th>\n",
       "      <td>9.92</td>\n",
       "    </tr>\n",
       "    <tr>\n",
       "      <th>ETER3</th>\n",
       "      <td>9.70</td>\n",
       "    </tr>\n",
       "    <tr>\n",
       "      <th>BBSE3</th>\n",
       "      <td>9.27</td>\n",
       "    </tr>\n",
       "    <tr>\n",
       "      <th>LOGG3</th>\n",
       "      <td>8.66</td>\n",
       "    </tr>\n",
       "    <tr>\n",
       "      <th>VIVT3</th>\n",
       "      <td>7.27</td>\n",
       "    </tr>\n",
       "    <tr>\n",
       "      <th>CXSE3</th>\n",
       "      <td>5.91</td>\n",
       "    </tr>\n",
       "    <tr>\n",
       "      <th>KLBN11</th>\n",
       "      <td>3.43</td>\n",
       "    </tr>\n",
       "    <tr>\n",
       "      <th>GOAU4</th>\n",
       "      <td>2.60</td>\n",
       "    </tr>\n",
       "    <tr>\n",
       "      <th>ITSA4</th>\n",
       "      <td>2.43</td>\n",
       "    </tr>\n",
       "    <tr>\n",
       "      <th>BLAU3</th>\n",
       "      <td>2.05</td>\n",
       "    </tr>\n",
       "    <tr>\n",
       "      <th>UGPA3</th>\n",
       "      <td>1.70</td>\n",
       "    </tr>\n",
       "    <tr>\n",
       "      <th>JHSF3</th>\n",
       "      <td>1.60</td>\n",
       "    </tr>\n",
       "    <tr>\n",
       "      <th>RAIZ4</th>\n",
       "      <td>1.57</td>\n",
       "    </tr>\n",
       "    <tr>\n",
       "      <th>WTSP11B</th>\n",
       "      <td>1.26</td>\n",
       "    </tr>\n",
       "    <tr>\n",
       "      <th>PARD3</th>\n",
       "      <td>0.93</td>\n",
       "    </tr>\n",
       "    <tr>\n",
       "      <th>TIMS3</th>\n",
       "      <td>0.68</td>\n",
       "    </tr>\n",
       "    <tr>\n",
       "      <th>MGLU3</th>\n",
       "      <td>0.11</td>\n",
       "    </tr>\n",
       "  </tbody>\n",
       "</table>\n",
       "</div>"
      ],
      "text/plain": [
       "         Valor da Operação\n",
       "Produto                   \n",
       "BTCR11              168.00\n",
       "BCFF11               66.27\n",
       "BRCR11               65.34\n",
       "MXRF11               53.58\n",
       "PETR4                44.18\n",
       "CIEL3                26.11\n",
       "TAEE11               25.94\n",
       "MRFG3                20.95\n",
       "AGRO3                20.16\n",
       "SADI11               19.08\n",
       "WEGE3                17.82\n",
       "BRAP4                15.76\n",
       "MOVI3                14.60\n",
       "BRAP3                14.33\n",
       "FLRY3                10.64\n",
       "ABCB4                 9.92\n",
       "ETER3                 9.70\n",
       "BBSE3                 9.27\n",
       "LOGG3                 8.66\n",
       "VIVT3                 7.27\n",
       "CXSE3                 5.91\n",
       "KLBN11                3.43\n",
       "GOAU4                 2.60\n",
       "ITSA4                 2.43\n",
       "BLAU3                 2.05\n",
       "UGPA3                 1.70\n",
       "JHSF3                 1.60\n",
       "RAIZ4                 1.57\n",
       "WTSP11B               1.26\n",
       "PARD3                 0.93\n",
       "TIMS3                 0.68\n",
       "MGLU3                 0.11"
      ]
     },
     "execution_count": 63,
     "metadata": {},
     "output_type": "execute_result"
    }
   ],
   "source": [
    "df_by_product = df_income_only.groupby([df['Produto']])['Produto','Valor da Operação'].sum()\n",
    "df_by_product.sort_values(by=['Valor da Operação'], ascending=False)"
   ]
  },
  {
   "cell_type": "markdown",
   "id": "81750d02",
   "metadata": {},
   "source": [
    "##### Gráfico - Rendimentos Agrupapado por produto"
   ]
  },
  {
   "cell_type": "code",
   "execution_count": 64,
   "id": "aa1b22b0",
   "metadata": {},
   "outputs": [
    {
     "data": {
      "image/png": "[encoded data removed]",
      "text/plain": [
       "<Figure size 1008x576 with 1 Axes>"
      ]
     },
     "metadata": {
      "needs_background": "light"
     },
     "output_type": "display_data"
    }
   ],
   "source": [
    "df_by_product = df_by_product.sort_values(['Valor da Operação'], ascending=False)\n",
    "\n",
    "colors = ['#5cb85c', '#5bc0de', '#d9534f']\n",
    "p1 = df_by_product.plot(kind='bar', color=colors, figsize=(14, 8), rot=90, width=0.8, ylabel='Valor', title=\"Ações x Rendimento\")\n",
    "\n",
    "for p in p1.containers:\n",
    "    p1.bar_label(p, fmt='R$ %.2f', label_type='edge', rotation=90)\n"
   ]
  },
  {
   "cell_type": "markdown",
   "id": "012f1b23",
   "metadata": {},
   "source": [
    "##### Dividendos Mensais"
   ]
  },
  {
   "cell_type": "code",
   "execution_count": 67,
   "id": "f98381f3",
   "metadata": {},
   "outputs": [
    {
     "name": "stdout",
     "output_type": "stream",
     "text": [
      "Produto  Data   \n",
      "ABCB4    04/2022     4.53\n",
      "         07/2022     5.39\n",
      "AGRO3    04/2022    20.16\n",
      "BBSE3    02/2022     9.27\n",
      "BCFF11   01/2022     6.51\n",
      "                    ...  \n",
      "VIVT3    10/2022     7.27\n",
      "WEGE3    03/2022     9.82\n",
      "         08/2022     8.00\n",
      "WTSP11B  03/2022     0.63\n",
      "         04/2022     0.63\n",
      "Name: Valor da Operação, Length: 81, dtype: float64\n"
     ]
    }
   ],
   "source": [
    "df_by_products_monthly_income = df_income_only.groupby([df_income_only['Produto'], df_income_only['Data'].dt.strftime('%m/%Y') ],  as_index=True)['Valor da Operação'].sum()  \n",
    "# df_by_products_monthly_income = df_income_only.groupby([df_income_only['Data'].dt.month.rename('ju'), df_income_only['Produto']],  as_index=True)['Preço unitário'].sum()  \n",
    "\n",
    "df_by_products_monthly_income\n",
    "print(df_by_products_monthly_income)\n",
    "# df_income_only.info()\n",
    "\n",
    "# df_by_products_monthly_income[df_by_products_monthly_income['Produto'].isin(['BCFF11'])]\n",
    "\n",
    "\n",
    "\n",
    "# print(df_by_products_monthly_income.loc[(df_by_products_monthly_income.index.get_loc ) ])\n",
    "# # df_by_products_monthly_income.loc['BCFF11']:\n",
    "\n",
    "# df_by_products_monthly_income.plot(kind='bar', color=colors, figsize=(14, 8), rot=0, width=0.8, ylabel='Valor', title=\"Ações x Rendimento\")"
   ]
  },
  {
   "cell_type": "markdown",
   "id": "950f5fb7",
   "metadata": {},
   "source": [
    "##### Exemplo de Gráfico com Multiplas Colunas"
   ]
  },
  {
   "cell_type": "code",
   "execution_count": null,
   "id": "14252acc",
   "metadata": {},
   "outputs": [
    {
     "data": {
      "image/png": "[encoded data removed]",
      "text/plain": [
       "<Figure size 1008x576 with 1 Axes>"
      ]
     },
     "metadata": {
      "needs_background": "light"
     },
     "output_type": "display_data"
    }
   ],
   "source": [
    "data=[[\"BTCR11\",23.00,156.25,70.00],\n",
    "      [\"MGLU3\",20,136,60],\n",
    "      [\"WEGE3\",15,100,35],\n",
    "      [\"CIEL3\",30,150,85]\n",
    "     ]\n",
    "\n",
    "colors = ['#1B98E0', '#006494', '#13293D']\n",
    "\n",
    "df=pd.DataFrame(data,columns=[\"Ações\",\"2019\", \"2020\", \"2021\"])\n",
    "p2 = df.plot(x=\"Ações\",  kind='bar', color=colors, figsize=(14, 8), rot=0, width=0.8,  ylabel='Valor', title=\"Ações x Rendimento\")\n",
    "\n",
    "for p in p2.containers:\n",
    "    p2.bar_label(p, fmt='R$ %.2f', label_type='edge')\n"
   ]
  },
  {
   "cell_type": "code",
   "execution_count": null,
   "id": "bc8f1f19",
   "metadata": {},
   "outputs": [
    {
     "data": {
      "image/png": "[encoded data removed]",
      "text/plain": [
       "<Figure size 432x288 with 1 Axes>"
      ]
     },
     "metadata": {},
     "output_type": "display_data"
    },
    {
     "data": {
      "text/plain": [
       "<AxesSubplot:ylabel='total_arrests'>"
      ]
     },
     "execution_count": 43,
     "metadata": {},
     "output_type": "execute_result"
    },
    {
     "data": {
      "image/png": "[encoded data removed]",
      "text/plain": [
       "<Figure size 1152x576 with 1 Axes>"
      ]
     },
     "metadata": {},
     "output_type": "display_data"
    }
   ],
   "source": [
    "df = pd.DataFrame({'Sex': ['female', 'male', 'female'], 'Smoke': [1, 3, 1]})\n",
    "\n",
    "df.Smoke.groupby(df.Sex).sum().plot(kind='pie')\n",
    "plt.axis('equal')\n",
    "plt.show()\n",
    "\n",
    "\n",
    "\n",
    "\n",
    "\n",
    "# sample data\n",
    "raw_data = {'officer_name': ['Jason', 'Molly', 'Tina', 'Jake', 'Amy'],\n",
    "        'jan_arrests': [4, 24, 31, 2, 3],\n",
    "        'feb_arrests': [25, 94, 57, 62, 70],\n",
    "        'march_arrests': [5, 43, 23, 23, 51]}\n",
    "df = pd.DataFrame(raw_data, columns = ['officer_name', 'jan_arrests', 'feb_arrests', 'march_arrests'])\n",
    "df['total_arrests'] = df['jan_arrests'] + df['feb_arrests'] + df['march_arrests']\n",
    "\n",
    "plt.figure(figsize=(16,8))\n",
    "# plot chart\n",
    "ax1 = plt.subplot(121, aspect='equal')\n",
    "df.plot(kind='pie', y = 'total_arrests', ax=ax1, autopct='%1.1f%%', \n",
    " startangle=90, shadow=False, labels=df['officer_name'], legend = False, fontsize=14)\n",
    "\n",
    "\n"
   ]
  },
  {
   "cell_type": "code",
   "execution_count": null,
   "id": "22cc4db6",
   "metadata": {},
   "outputs": [],
   "source": []
  }
 ],
 "metadata": {
  "interpreter": {
   "hash": "dcb1af5f7ea548c6dfcc04f35b6e2be685a1518796f4eac3156d86bad0ce05a4"
  },
  "kernelspec": {
   "display_name": "Python 3.9.7 ('base')",
   "language": "python",
   "name": "python3"
  },
  "language_info": {
   "codemirror_mode": {
    "name": "ipython",
    "version": 3
   },
   "file_extension": ".py",
   "mimetype": "text/x-python",
   "name": "python",
   "nbconvert_exporter": "python",
   "pygments_lexer": "ipython3",
   "version": "3.9.7"
  }
 },
 "nbformat": 4,
 "nbformat_minor": 5
}
