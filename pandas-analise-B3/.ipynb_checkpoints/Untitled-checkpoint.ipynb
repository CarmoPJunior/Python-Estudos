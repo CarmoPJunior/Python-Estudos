{
 "cells": [
  {
   "cell_type": "markdown",
   "id": "5bdc2969-3d56-4aa4-8c3c-5079c6146e62",
   "metadata": {
    "tags": []
   },
   "source": [
    "### Importa as bibliotecas"
   ]
  },
  {
   "cell_type": "code",
   "execution_count": 1,
   "id": "09623a4e-0c9c-4a9e-b647-a659165a9fd2",
   "metadata": {},
   "outputs": [],
   "source": [
    "import pandas as pd\n",
    "import warnings\n",
    "import matplotlib.pyplot as plt\n",
    "%matplotlib inline\n",
    "warnings.simplefilter(\"ignore\")"
   ]
  },
  {
   "cell_type": "markdown",
   "id": "1980261c-19c1-4bf2-ae15-45c2ffcda5fa",
   "metadata": {
    "jp-MarkdownHeadingCollapsed": true,
    "tags": []
   },
   "source": [
    "##### Exibe a versão do Panda"
   ]
  },
  {
   "cell_type": "code",
   "execution_count": 2,
   "id": "9892973e-23c8-4c0d-a599-869a54cb6d24",
   "metadata": {},
   "outputs": [
    {
     "data": {
      "text/plain": [
       "'1.3.4'"
      ]
     },
     "execution_count": 2,
     "metadata": {},
     "output_type": "execute_result"
    }
   ],
   "source": [
    "pd.__version__"
   ]
  },
  {
   "cell_type": "markdown",
   "id": "0448a5f1-129e-4acd-9ce9-d56246b0aa19",
   "metadata": {
    "jp-MarkdownHeadingCollapsed": true,
    "tags": []
   },
   "source": [
    "##### Carrega o Arquivo "
   ]
  },
  {
   "cell_type": "code",
   "execution_count": 3,
   "id": "be674ee4-5114-4ba3-9588-5676f83f1c25",
   "metadata": {},
   "outputs": [
    {
     "ename": "FileNotFoundError",
     "evalue": "[Errno 2] No such file or directory: 'movimentacao-2022-01-24-00-49-25'",
     "output_type": "error",
     "traceback": [
      "\u001b[1;31m---------------------------------------------------------------------------\u001b[0m",
      "\u001b[1;31mFileNotFoundError\u001b[0m                         Traceback (most recent call last)",
      "\u001b[1;32m~\\AppData\\Local\\Temp/ipykernel_15524/3785845191.py\u001b[0m in \u001b[0;36m<module>\u001b[1;34m\u001b[0m\n\u001b[1;32m----> 1\u001b[1;33m \u001b[0mdf\u001b[0m \u001b[1;33m=\u001b[0m \u001b[0mpd\u001b[0m\u001b[1;33m.\u001b[0m\u001b[0mread_excel\u001b[0m\u001b[1;33m(\u001b[0m\u001b[1;34m'movimentacao-2022-01-24-00-49-25'\u001b[0m\u001b[1;33m,\u001b[0m \u001b[0msheet_name\u001b[0m\u001b[1;33m=\u001b[0m\u001b[1;34m\"Movimentação\"\u001b[0m\u001b[1;33m)\u001b[0m\u001b[1;33m\u001b[0m\u001b[1;33m\u001b[0m\u001b[0m\n\u001b[0m",
      "\u001b[1;32m~\\anaconda3\\lib\\site-packages\\pandas\\util\\_decorators.py\u001b[0m in \u001b[0;36mwrapper\u001b[1;34m(*args, **kwargs)\u001b[0m\n\u001b[0;32m    309\u001b[0m                     \u001b[0mstacklevel\u001b[0m\u001b[1;33m=\u001b[0m\u001b[0mstacklevel\u001b[0m\u001b[1;33m,\u001b[0m\u001b[1;33m\u001b[0m\u001b[1;33m\u001b[0m\u001b[0m\n\u001b[0;32m    310\u001b[0m                 )\n\u001b[1;32m--> 311\u001b[1;33m             \u001b[1;32mreturn\u001b[0m \u001b[0mfunc\u001b[0m\u001b[1;33m(\u001b[0m\u001b[1;33m*\u001b[0m\u001b[0margs\u001b[0m\u001b[1;33m,\u001b[0m \u001b[1;33m**\u001b[0m\u001b[0mkwargs\u001b[0m\u001b[1;33m)\u001b[0m\u001b[1;33m\u001b[0m\u001b[1;33m\u001b[0m\u001b[0m\n\u001b[0m\u001b[0;32m    312\u001b[0m \u001b[1;33m\u001b[0m\u001b[0m\n\u001b[0;32m    313\u001b[0m         \u001b[1;32mreturn\u001b[0m \u001b[0mwrapper\u001b[0m\u001b[1;33m\u001b[0m\u001b[1;33m\u001b[0m\u001b[0m\n",
      "\u001b[1;32m~\\anaconda3\\lib\\site-packages\\pandas\\io\\excel\\_base.py\u001b[0m in \u001b[0;36mread_excel\u001b[1;34m(io, sheet_name, header, names, index_col, usecols, squeeze, dtype, engine, converters, true_values, false_values, skiprows, nrows, na_values, keep_default_na, na_filter, verbose, parse_dates, date_parser, thousands, comment, skipfooter, convert_float, mangle_dupe_cols, storage_options)\u001b[0m\n\u001b[0;32m    362\u001b[0m     \u001b[1;32mif\u001b[0m \u001b[1;32mnot\u001b[0m \u001b[0misinstance\u001b[0m\u001b[1;33m(\u001b[0m\u001b[0mio\u001b[0m\u001b[1;33m,\u001b[0m \u001b[0mExcelFile\u001b[0m\u001b[1;33m)\u001b[0m\u001b[1;33m:\u001b[0m\u001b[1;33m\u001b[0m\u001b[1;33m\u001b[0m\u001b[0m\n\u001b[0;32m    363\u001b[0m         \u001b[0mshould_close\u001b[0m \u001b[1;33m=\u001b[0m \u001b[1;32mTrue\u001b[0m\u001b[1;33m\u001b[0m\u001b[1;33m\u001b[0m\u001b[0m\n\u001b[1;32m--> 364\u001b[1;33m         \u001b[0mio\u001b[0m \u001b[1;33m=\u001b[0m \u001b[0mExcelFile\u001b[0m\u001b[1;33m(\u001b[0m\u001b[0mio\u001b[0m\u001b[1;33m,\u001b[0m \u001b[0mstorage_options\u001b[0m\u001b[1;33m=\u001b[0m\u001b[0mstorage_options\u001b[0m\u001b[1;33m,\u001b[0m \u001b[0mengine\u001b[0m\u001b[1;33m=\u001b[0m\u001b[0mengine\u001b[0m\u001b[1;33m)\u001b[0m\u001b[1;33m\u001b[0m\u001b[1;33m\u001b[0m\u001b[0m\n\u001b[0m\u001b[0;32m    365\u001b[0m     \u001b[1;32melif\u001b[0m \u001b[0mengine\u001b[0m \u001b[1;32mand\u001b[0m \u001b[0mengine\u001b[0m \u001b[1;33m!=\u001b[0m \u001b[0mio\u001b[0m\u001b[1;33m.\u001b[0m\u001b[0mengine\u001b[0m\u001b[1;33m:\u001b[0m\u001b[1;33m\u001b[0m\u001b[1;33m\u001b[0m\u001b[0m\n\u001b[0;32m    366\u001b[0m         raise ValueError(\n",
      "\u001b[1;32m~\\anaconda3\\lib\\site-packages\\pandas\\io\\excel\\_base.py\u001b[0m in \u001b[0;36m__init__\u001b[1;34m(self, path_or_buffer, engine, storage_options)\u001b[0m\n\u001b[0;32m   1189\u001b[0m                 \u001b[0mext\u001b[0m \u001b[1;33m=\u001b[0m \u001b[1;34m\"xls\"\u001b[0m\u001b[1;33m\u001b[0m\u001b[1;33m\u001b[0m\u001b[0m\n\u001b[0;32m   1190\u001b[0m             \u001b[1;32melse\u001b[0m\u001b[1;33m:\u001b[0m\u001b[1;33m\u001b[0m\u001b[1;33m\u001b[0m\u001b[0m\n\u001b[1;32m-> 1191\u001b[1;33m                 ext = inspect_excel_format(\n\u001b[0m\u001b[0;32m   1192\u001b[0m                     \u001b[0mcontent_or_path\u001b[0m\u001b[1;33m=\u001b[0m\u001b[0mpath_or_buffer\u001b[0m\u001b[1;33m,\u001b[0m \u001b[0mstorage_options\u001b[0m\u001b[1;33m=\u001b[0m\u001b[0mstorage_options\u001b[0m\u001b[1;33m\u001b[0m\u001b[1;33m\u001b[0m\u001b[0m\n\u001b[0;32m   1193\u001b[0m                 )\n",
      "\u001b[1;32m~\\anaconda3\\lib\\site-packages\\pandas\\io\\excel\\_base.py\u001b[0m in \u001b[0;36minspect_excel_format\u001b[1;34m(content_or_path, storage_options)\u001b[0m\n\u001b[0;32m   1068\u001b[0m         \u001b[0mcontent_or_path\u001b[0m \u001b[1;33m=\u001b[0m \u001b[0mBytesIO\u001b[0m\u001b[1;33m(\u001b[0m\u001b[0mcontent_or_path\u001b[0m\u001b[1;33m)\u001b[0m\u001b[1;33m\u001b[0m\u001b[1;33m\u001b[0m\u001b[0m\n\u001b[0;32m   1069\u001b[0m \u001b[1;33m\u001b[0m\u001b[0m\n\u001b[1;32m-> 1070\u001b[1;33m     with get_handle(\n\u001b[0m\u001b[0;32m   1071\u001b[0m         \u001b[0mcontent_or_path\u001b[0m\u001b[1;33m,\u001b[0m \u001b[1;34m\"rb\"\u001b[0m\u001b[1;33m,\u001b[0m \u001b[0mstorage_options\u001b[0m\u001b[1;33m=\u001b[0m\u001b[0mstorage_options\u001b[0m\u001b[1;33m,\u001b[0m \u001b[0mis_text\u001b[0m\u001b[1;33m=\u001b[0m\u001b[1;32mFalse\u001b[0m\u001b[1;33m\u001b[0m\u001b[1;33m\u001b[0m\u001b[0m\n\u001b[0;32m   1072\u001b[0m     ) as handle:\n",
      "\u001b[1;32m~\\anaconda3\\lib\\site-packages\\pandas\\io\\common.py\u001b[0m in \u001b[0;36mget_handle\u001b[1;34m(path_or_buf, mode, encoding, compression, memory_map, is_text, errors, storage_options)\u001b[0m\n\u001b[0;32m    709\u001b[0m         \u001b[1;32melse\u001b[0m\u001b[1;33m:\u001b[0m\u001b[1;33m\u001b[0m\u001b[1;33m\u001b[0m\u001b[0m\n\u001b[0;32m    710\u001b[0m             \u001b[1;31m# Binary mode\u001b[0m\u001b[1;33m\u001b[0m\u001b[1;33m\u001b[0m\u001b[0m\n\u001b[1;32m--> 711\u001b[1;33m             \u001b[0mhandle\u001b[0m \u001b[1;33m=\u001b[0m \u001b[0mopen\u001b[0m\u001b[1;33m(\u001b[0m\u001b[0mhandle\u001b[0m\u001b[1;33m,\u001b[0m \u001b[0mioargs\u001b[0m\u001b[1;33m.\u001b[0m\u001b[0mmode\u001b[0m\u001b[1;33m)\u001b[0m\u001b[1;33m\u001b[0m\u001b[1;33m\u001b[0m\u001b[0m\n\u001b[0m\u001b[0;32m    712\u001b[0m         \u001b[0mhandles\u001b[0m\u001b[1;33m.\u001b[0m\u001b[0mappend\u001b[0m\u001b[1;33m(\u001b[0m\u001b[0mhandle\u001b[0m\u001b[1;33m)\u001b[0m\u001b[1;33m\u001b[0m\u001b[1;33m\u001b[0m\u001b[0m\n\u001b[0;32m    713\u001b[0m \u001b[1;33m\u001b[0m\u001b[0m\n",
      "\u001b[1;31mFileNotFoundError\u001b[0m: [Errno 2] No such file or directory: 'movimentacao-2022-01-24-00-49-25'"
     ]
    }
   ],
   "source": [
    "df = pd.read_excel('movimentacao-2022-01-24-00-49-25.xlsx', sheet_name=\"Movimentação\")"
   ]
  },
  {
   "cell_type": "markdown",
   "id": "9d15370d-5ec4-40bf-baee-e52046518eb8",
   "metadata": {
    "jp-MarkdownHeadingCollapsed": true,
    "tags": []
   },
   "source": [
    "##### Exibe as linhas do arquivo"
   ]
  },
  {
   "cell_type": "code",
   "execution_count": null,
   "id": "277e75d3-616d-4668-b9c7-246e45db14d2",
   "metadata": {},
   "outputs": [],
   "source": [
    "df.head()"
   ]
  },
  {
   "cell_type": "markdown",
   "id": "dd605970-64d6-47e3-83bf-e9ebaf04e67c",
   "metadata": {
    "jp-MarkdownHeadingCollapsed": true,
    "tags": []
   },
   "source": [
    "##### Exibe as Colunas do Arquivo"
   ]
  },
  {
   "cell_type": "code",
   "execution_count": null,
   "id": "1c409699-10c2-4c93-936a-fdf398fa0d37",
   "metadata": {},
   "outputs": [],
   "source": [
    "df.columns"
   ]
  },
  {
   "cell_type": "markdown",
   "id": "39d1348f-d577-4915-b0f9-4a5318eb63bf",
   "metadata": {
    "jp-MarkdownHeadingCollapsed": true,
    "tags": []
   },
   "source": [
    "##### Exibe os tipos de cada coluna "
   ]
  },
  {
   "cell_type": "code",
   "execution_count": null,
   "id": "3a208145-864e-417a-bcdd-b87fa9f82d6c",
   "metadata": {},
   "outputs": [],
   "source": [
    "df.info()"
   ]
  },
  {
   "cell_type": "markdown",
   "id": "b3030a44-e941-4764-9952-8fe19d9ed5fc",
   "metadata": {
    "jp-MarkdownHeadingCollapsed": true,
    "tags": []
   },
   "source": [
    "##### Trata os dados das colunas ('Preço unitário', 'Valor da Operação', 'Produto')"
   ]
  },
  {
   "cell_type": "code",
   "execution_count": null,
   "id": "574a23d8-ff4b-403b-8143-291425c3c725",
   "metadata": {},
   "outputs": [],
   "source": [
    "df['Preço unitário'] = df['Preço unitário'].apply(lambda x : str(x).replace(\"-\", \"0\"))\n",
    "df['Valor da Operação'] = df['Valor da Operação'].apply(lambda x : str(x).replace(\"-\", \"0\"))\n",
    "df[\"Produto\"] = df[\"Produto\"].str.split(\"-\").str.get(0).str.strip()"
   ]
  },
  {
   "cell_type": "markdown",
   "id": "ee1f4f63-a464-4112-a92c-996fa79d114d",
   "metadata": {
    "jp-MarkdownHeadingCollapsed": true,
    "tags": []
   },
   "source": [
    "##### Converte as colunas ('Preço unitário', 'Valor da Operação') para o float"
   ]
  },
  {
   "cell_type": "code",
   "execution_count": null,
   "id": "748d02f1-8864-4285-8a47-05da1682a157",
   "metadata": {},
   "outputs": [],
   "source": [
    "df['Preço unitário'] =df['Preço unitário'].astype('float64')\n",
    "df['Valor da Operação'] =df['Valor da Operação'].astype('float64')"
   ]
  },
  {
   "cell_type": "markdown",
   "id": "d57e43c8-790b-4fb4-aad7-bca04a2db427",
   "metadata": {
    "tags": []
   },
   "source": [
    "##### Converte a coluna ('Data') para o tipo Date"
   ]
  },
  {
   "cell_type": "code",
   "execution_count": null,
   "id": "4c35a7e1-3c2e-40d5-afdf-c6ab4c6fc311",
   "metadata": {},
   "outputs": [],
   "source": [
    "df['Data'] = pd.to_datetime(df['Data'], infer_datetime_format=True)"
   ]
  },
  {
   "cell_type": "markdown",
   "id": "5b239b2b-58c7-47a7-b399-6eb6e4c62b59",
   "metadata": {
    "jp-MarkdownHeadingCollapsed": true,
    "tags": []
   },
   "source": [
    "##### Count"
   ]
  },
  {
   "cell_type": "code",
   "execution_count": null,
   "id": "a3f971ae-9483-42cd-a112-fd6c7f5c5dbc",
   "metadata": {},
   "outputs": [],
   "source": [
    "df.count()"
   ]
  },
  {
   "cell_type": "markdown",
   "id": "e9621208-fc07-4805-80b1-3125cea39a51",
   "metadata": {
    "jp-MarkdownHeadingCollapsed": true,
    "tags": []
   },
   "source": [
    "##### Discribe"
   ]
  },
  {
   "cell_type": "code",
   "execution_count": null,
   "id": "0d67e74f-8afa-4adc-ba05-0a8568792a42",
   "metadata": {},
   "outputs": [],
   "source": [
    "df.describe()"
   ]
  },
  {
   "cell_type": "markdown",
   "id": "825e2d28-5a39-497b-8f11-f79d4006d408",
   "metadata": {
    "jp-MarkdownHeadingCollapsed": true,
    "tags": []
   },
   "source": [
    "##### Remove a coluna \"Instituição\" e exibe "
   ]
  },
  {
   "cell_type": "code",
   "execution_count": null,
   "id": "d6cab1f5-a3ce-432d-9b50-1f9a38a2db41",
   "metadata": {},
   "outputs": [],
   "source": [
    "df.drop(['Instituição'], axis=1, inplace=True)"
   ]
  },
  {
   "cell_type": "markdown",
   "id": "235164e5-76f9-4d79-b6ba-505fcf86ac1a",
   "metadata": {},
   "source": [
    "##### Agrupa por tipo de movimentação"
   ]
  },
  {
   "cell_type": "code",
   "execution_count": null,
   "id": "770f8b75-bf86-48d5-b937-19130c6a827c",
   "metadata": {},
   "outputs": [],
   "source": [
    "df_sum_Movimentacao = df.groupby([\"Movimentação\"]).sum()  \n",
    "df_sum_Movimentacao"
   ]
  },
  {
   "cell_type": "markdown",
   "id": "52fbe1ea-8764-44ea-92cc-deb04b93cc4a",
   "metadata": {},
   "source": [
    "##### Filtra as informações da coluna movimentações\n"
   ]
  },
  {
   "cell_type": "code",
   "execution_count": null,
   "id": "4260ea06-6540-4f6a-8a42-62551ee4e5ff",
   "metadata": {},
   "outputs": [],
   "source": [
    "types_incomes = ['Juros Sobre Capital Próprio','Rendimento', 'Dividendo']\n",
    "df_income_only = df[df['Movimentação'].isin(types_incomes)]\n",
    "print(df_income_only.sum());"
   ]
  },
  {
   "cell_type": "markdown",
   "id": "cd4f47b5-2431-4bf3-8616-b1b28ad49dad",
   "metadata": {},
   "source": [
    "## "
   ]
  },
  {
   "cell_type": "markdown",
   "id": "fcbf79f0-3cc2-4d36-b0ed-c92135772115",
   "metadata": {},
   "source": [
    "##### Exibir rendimentos agrupado por mês"
   ]
  },
  {
   "cell_type": "code",
   "execution_count": null,
   "id": "fe5a2ee7-3df0-42a1-a09b-ab0c7124b8df",
   "metadata": {},
   "outputs": [],
   "source": [
    "show_columns = ['Data', 'Quantidade', 'Valor da Operação']\n",
    "df_income_only.groupby([df['Data'].dt.year.rename('Ano'), df['Data'].dt.month.rename('Mes')])[show_columns].sum()  \n"
   ]
  },
  {
   "cell_type": "markdown",
   "id": "07f38d11",
   "metadata": {},
   "source": [
    "##### Exibe rendimentos agrupado por  Período e por Produto"
   ]
  },
  {
   "cell_type": "code",
   "execution_count": null,
   "id": "411b8006-a5d2-4457-b45c-d81ee308eb1d",
   "metadata": {},
   "outputs": [],
   "source": [
    "df_grupby_produto_period = df_income_only.groupby([df['Data'].dt.year.rename('Ano'), df['Data'].dt.month.rename('Mes'), df['Produto']]).sum()  \n",
    "df_grupby_produto_period.head(76)"
   ]
  },
  {
   "cell_type": "markdown",
   "id": "8781b82f",
   "metadata": {},
   "source": [
    "##### Valor da operação Agrupapado por produto"
   ]
  },
  {
   "cell_type": "code",
   "execution_count": null,
   "id": "a165a5c7",
   "metadata": {},
   "outputs": [],
   "source": [
    "df_by_product = df_income_only.groupby([df['Produto']])['Produto','Valor da Operação'].sum()\n",
    "df_by_product"
   ]
  },
  {
   "cell_type": "markdown",
   "id": "81750d02",
   "metadata": {},
   "source": [
    "##### Gráfico - Rendimentos Agrupapado por produto"
   ]
  },
  {
   "cell_type": "code",
   "execution_count": null,
   "id": "aa1b22b0",
   "metadata": {},
   "outputs": [],
   "source": [
    "df_by_product = df_by_product.sort_values(['Valor da Operação'], ascending=False)\n",
    "\n",
    "colors = ['#5cb85c', '#5bc0de', '#d9534f']\n",
    "p1 = df_by_product.plot(kind='bar', color=colors, figsize=(14, 8), rot=0, width=0.8, ylabel='Valor', title=\"Ações x Rendimento\")\n",
    "\n",
    "for p in p1.containers:\n",
    "    p1.bar_label(p, fmt='R$ %.2f', label_type='edge')\n"
   ]
  },
  {
   "cell_type": "markdown",
   "id": "012f1b23",
   "metadata": {},
   "source": [
    "##### Dividendos Mensais"
   ]
  },
  {
   "cell_type": "code",
   "execution_count": null,
   "id": "f98381f3",
   "metadata": {},
   "outputs": [],
   "source": [
    "df_by_products_monthly_income = df_income_only.groupby([df_income_only['Produto'], df_income_only['Data'].dt.strftime('%m/%Y') ],  as_index=False)['Preço unitário'].sum()  \n",
    "# df_by_products_monthly_income = df_income_only.groupby([df_income_only['Data'].dt.month.rename('ju'), df_income_only['Produto']],  as_index=True)['Preço unitário'].sum()  \n",
    "\n",
    "df_by_products_monthly_income\n",
    "# print(df_by_products_monthly_income)\n",
    "# df_income_only.info()\n",
    "\n",
    "# df_by_products_monthly_income[df_by_products_monthly_income['Produto'].isin(['BCFF11'])]\n",
    "\n",
    "\n",
    "\n",
    "# print(df_by_products_monthly_income.loc[(df_by_products_monthly_income.index.get_loc ) ])\n",
    "# # df_by_products_monthly_income.loc['BCFF11']:\n",
    "\n",
    "# df_by_products_monthly_income.plot(kind='bar', color=colors, figsize=(14, 8), rot=0, width=0.8, ylabel='Valor', title=\"Ações x Rendimento\")"
   ]
  },
  {
   "cell_type": "markdown",
   "id": "950f5fb7",
   "metadata": {},
   "source": [
    "##### Exemplo de Gráfico com Multiplas Colunas"
   ]
  },
  {
   "cell_type": "code",
   "execution_count": null,
   "id": "14252acc",
   "metadata": {},
   "outputs": [],
   "source": [
    "data=[[\"BTCR11\",23.00,156.25,70.00],\n",
    "      [\"MGLU3\",20,136,60],\n",
    "      [\"WEGE3\",15,100,35],\n",
    "      [\"CIEL3\",30,150,85]\n",
    "     ]\n",
    "\n",
    "colors = ['#1B98E0', '#006494', '#13293D']\n",
    "\n",
    "df=pd.DataFrame(data,columns=[\"Ações\",\"2019\", \"2020\", \"2021\"])\n",
    "p2 = df.plot(x=\"Ações\",  kind='bar', color=colors, figsize=(14, 8), rot=0, width=0.8,  ylabel='Valor', title=\"Ações x Rendimento\")\n",
    "\n",
    "for p in p2.containers:\n",
    "    p2.bar_label(p, fmt='R$ %.2f', label_type='edge')\n"
   ]
  },
  {
   "cell_type": "code",
   "execution_count": null,
   "id": "bc8f1f19",
   "metadata": {},
   "outputs": [],
   "source": [
    "df = pd.DataFrame({'Sex': ['female', 'male', 'female'], 'Smoke': [1, 3, 1]})\n",
    "\n",
    "df.Smoke.groupby(df.Sex).sum().plot(kind='pie')\n",
    "plt.axis('equal')\n",
    "plt.show()\n",
    "\n",
    "\n",
    "\n",
    "\n",
    "\n",
    "# sample data\n",
    "raw_data = {'officer_name': ['Jason', 'Molly', 'Tina', 'Jake', 'Amy'],\n",
    "        'jan_arrests': [4, 24, 31, 2, 3],\n",
    "        'feb_arrests': [25, 94, 57, 62, 70],\n",
    "        'march_arrests': [5, 43, 23, 23, 51]}\n",
    "df = pd.DataFrame(raw_data, columns = ['officer_name', 'jan_arrests', 'feb_arrests', 'march_arrests'])\n",
    "df['total_arrests'] = df['jan_arrests'] + df['feb_arrests'] + df['march_arrests']\n",
    "\n",
    "plt.figure(figsize=(16,8))\n",
    "# plot chart\n",
    "ax1 = plt.subplot(121, aspect='equal')\n",
    "df.plot(kind='pie', y = 'total_arrests', ax=ax1, autopct='%1.1f%%', \n",
    " startangle=90, shadow=False, labels=df['officer_name'], legend = False, fontsize=14)\n",
    "\n",
    "\n"
   ]
  },
  {
   "cell_type": "code",
   "execution_count": null,
   "id": "22cc4db6",
   "metadata": {},
   "outputs": [],
   "source": []
  }
 ],
 "metadata": {
  "kernelspec": {
   "display_name": "Python 3 (ipykernel)",
   "language": "python",
   "name": "python3"
  },
  "language_info": {
   "codemirror_mode": {
    "name": "ipython",
    "version": 3
   },
   "file_extension": ".py",
   "mimetype": "text/x-python",
   "name": "python",
   "nbconvert_exporter": "python",
   "pygments_lexer": "ipython3",
   "version": "3.9.7"
  }
 },
 "nbformat": 4,
 "nbformat_minor": 5
}
