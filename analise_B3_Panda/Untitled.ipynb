{
 "cells": [
  {
   "cell_type": "markdown",
   "id": "5bdc2969-3d56-4aa4-8c3c-5079c6146e62",
   "metadata": {
    "tags": []
   },
   "source": [
    "### Importa as bibliotecas"
   ]
  },
  {
   "cell_type": "code",
   "execution_count": 7,
   "id": "09623a4e-0c9c-4a9e-b647-a659165a9fd2",
   "metadata": {},
   "outputs": [],
   "source": []
  },
  {
   "cell_type": "code",
   "execution_count": null,
   "id": "02b23f34",
   "metadata": {},
   "outputs": [],
   "source": [
    "import pandas as pd\n",
    "import warnings\n",
    "import matplotlib.pyplot as plt\n",
    "%matplotlib inline\n",
    "warnings.simplefilter(\"ignore\")"
   ]
  },
  {
   "cell_type": "markdown",
   "id": "1980261c-19c1-4bf2-ae15-45c2ffcda5fa",
   "metadata": {
    "jp-MarkdownHeadingCollapsed": true,
    "tags": []
   },
   "source": [
    "##### Exibe a versão do Panda"
   ]
  },
  {
   "cell_type": "code",
   "execution_count": 8,
   "id": "9892973e-23c8-4c0d-a599-869a54cb6d24",
   "metadata": {},
   "outputs": [
    {
     "data": {
      "text/plain": [
       "'1.3.4'"
      ]
     },
     "execution_count": 8,
     "metadata": {},
     "output_type": "execute_result"
    }
   ],
   "source": [
    "pd.__version__"
   ]
  },
  {
   "cell_type": "markdown",
   "id": "0448a5f1-129e-4acd-9ce9-d56246b0aa19",
   "metadata": {
    "jp-MarkdownHeadingCollapsed": true,
    "tags": []
   },
   "source": [
    "##### Carrega o Arquivo "
   ]
  },
  {
   "cell_type": "code",
   "execution_count": 9,
   "id": "be674ee4-5114-4ba3-9588-5676f83f1c25",
   "metadata": {},
   "outputs": [],
   "source": [
    "df = pd.read_excel('movimentacao-2022_ate_29_04.xlsx', sheet_name=\"Movimentação\")"
   ]
  },
  {
   "cell_type": "markdown",
   "id": "9d15370d-5ec4-40bf-baee-e52046518eb8",
   "metadata": {
    "jp-MarkdownHeadingCollapsed": true,
    "tags": []
   },
   "source": [
    "##### Exibe as linhas do arquivo"
   ]
  },
  {
   "cell_type": "code",
   "execution_count": 10,
   "id": "277e75d3-616d-4668-b9c7-246e45db14d2",
   "metadata": {},
   "outputs": [
    {
     "data": {
      "text/html": [
       "<div>\n",
       "<style scoped>\n",
       "    .dataframe tbody tr th:only-of-type {\n",
       "        vertical-align: middle;\n",
       "    }\n",
       "\n",
       "    .dataframe tbody tr th {\n",
       "        vertical-align: top;\n",
       "    }\n",
       "\n",
       "    .dataframe thead th {\n",
       "        text-align: right;\n",
       "    }\n",
       "</style>\n",
       "<table border=\"1\" class=\"dataframe\">\n",
       "  <thead>\n",
       "    <tr style=\"text-align: right;\">\n",
       "      <th></th>\n",
       "      <th>Entrada/Saída</th>\n",
       "      <th>Data</th>\n",
       "      <th>Movimentação</th>\n",
       "      <th>Produto</th>\n",
       "      <th>Instituição</th>\n",
       "      <th>Quantidade</th>\n",
       "      <th>Preço unitário</th>\n",
       "      <th>Valor da Operação</th>\n",
       "    </tr>\n",
       "  </thead>\n",
       "  <tbody>\n",
       "    <tr>\n",
       "      <th>0</th>\n",
       "      <td>Debito</td>\n",
       "      <td>25/03/2022</td>\n",
       "      <td>Transferência - Liquidação</td>\n",
       "      <td>BEES3        - BANESTES S/A BANCO DO ESTADO DO...</td>\n",
       "      <td>CLEAR CORRETORA - GRUPO XP</td>\n",
       "      <td>60</td>\n",
       "      <td>5.02</td>\n",
       "      <td>301.38</td>\n",
       "    </tr>\n",
       "    <tr>\n",
       "      <th>1</th>\n",
       "      <td>Credito</td>\n",
       "      <td>25/03/2022</td>\n",
       "      <td>Transferência - Liquidação</td>\n",
       "      <td>BLAU3        - BLAU FARMACÊUTICA S.A.</td>\n",
       "      <td>CLEAR CORRETORA - GRUPO XP</td>\n",
       "      <td>10</td>\n",
       "      <td>28.39</td>\n",
       "      <td>283.90</td>\n",
       "    </tr>\n",
       "    <tr>\n",
       "      <th>2</th>\n",
       "      <td>Credito</td>\n",
       "      <td>24/03/2022</td>\n",
       "      <td>Transferência - Liquidação</td>\n",
       "      <td>CGAS5        - CIA DE GAS DE SAO PAULO - COMGAS</td>\n",
       "      <td>CLEAR CORRETORA - GRUPO XP</td>\n",
       "      <td>2</td>\n",
       "      <td>131.95</td>\n",
       "      <td>263.90</td>\n",
       "    </tr>\n",
       "    <tr>\n",
       "      <th>3</th>\n",
       "      <td>Debito</td>\n",
       "      <td>24/03/2022</td>\n",
       "      <td>Transferência - Liquidação</td>\n",
       "      <td>CSMG3        - COMPANHIA DE SANEAMENTO DE MINA...</td>\n",
       "      <td>CLEAR CORRETORA - GRUPO XP</td>\n",
       "      <td>10</td>\n",
       "      <td>14.40</td>\n",
       "      <td>144.00</td>\n",
       "    </tr>\n",
       "    <tr>\n",
       "      <th>4</th>\n",
       "      <td>Credito</td>\n",
       "      <td>24/03/2022</td>\n",
       "      <td>Transferência - Liquidação</td>\n",
       "      <td>ITSA4        - ITAUSA S/A</td>\n",
       "      <td>CLEAR CORRETORA - GRUPO XP</td>\n",
       "      <td>10</td>\n",
       "      <td>10.84</td>\n",
       "      <td>108.40</td>\n",
       "    </tr>\n",
       "  </tbody>\n",
       "</table>\n",
       "</div>"
      ],
      "text/plain": [
       "  Entrada/Saída        Data                Movimentação  \\\n",
       "0        Debito  25/03/2022  Transferência - Liquidação   \n",
       "1       Credito  25/03/2022  Transferência - Liquidação   \n",
       "2       Credito  24/03/2022  Transferência - Liquidação   \n",
       "3        Debito  24/03/2022  Transferência - Liquidação   \n",
       "4       Credito  24/03/2022  Transferência - Liquidação   \n",
       "\n",
       "                                             Produto  \\\n",
       "0  BEES3        - BANESTES S/A BANCO DO ESTADO DO...   \n",
       "1              BLAU3        - BLAU FARMACÊUTICA S.A.   \n",
       "2    CGAS5        - CIA DE GAS DE SAO PAULO - COMGAS   \n",
       "3  CSMG3        - COMPANHIA DE SANEAMENTO DE MINA...   \n",
       "4                          ITSA4        - ITAUSA S/A   \n",
       "\n",
       "                  Instituição  Quantidade  Preço unitário  Valor da Operação  \n",
       "0  CLEAR CORRETORA - GRUPO XP          60            5.02             301.38  \n",
       "1  CLEAR CORRETORA - GRUPO XP          10           28.39             283.90  \n",
       "2  CLEAR CORRETORA - GRUPO XP           2          131.95             263.90  \n",
       "3  CLEAR CORRETORA - GRUPO XP          10           14.40             144.00  \n",
       "4  CLEAR CORRETORA - GRUPO XP          10           10.84             108.40  "
      ]
     },
     "execution_count": 10,
     "metadata": {},
     "output_type": "execute_result"
    }
   ],
   "source": [
    "df.head()"
   ]
  },
  {
   "cell_type": "markdown",
   "id": "dd605970-64d6-47e3-83bf-e9ebaf04e67c",
   "metadata": {
    "jp-MarkdownHeadingCollapsed": true,
    "tags": []
   },
   "source": [
    "##### Exibe as Colunas do Arquivo"
   ]
  },
  {
   "cell_type": "code",
   "execution_count": 11,
   "id": "1c409699-10c2-4c93-936a-fdf398fa0d37",
   "metadata": {},
   "outputs": [
    {
     "data": {
      "text/plain": [
       "Index(['Entrada/Saída', 'Data', 'Movimentação', 'Produto', 'Instituição',\n",
       "       'Quantidade', 'Preço unitário', 'Valor da Operação'],\n",
       "      dtype='object')"
      ]
     },
     "execution_count": 11,
     "metadata": {},
     "output_type": "execute_result"
    }
   ],
   "source": [
    "df.columns"
   ]
  },
  {
   "cell_type": "markdown",
   "id": "39d1348f-d577-4915-b0f9-4a5318eb63bf",
   "metadata": {
    "jp-MarkdownHeadingCollapsed": true,
    "tags": []
   },
   "source": [
    "##### Exibe os tipos de cada coluna "
   ]
  },
  {
   "cell_type": "code",
   "execution_count": 12,
   "id": "3a208145-864e-417a-bcdd-b87fa9f82d6c",
   "metadata": {},
   "outputs": [
    {
     "name": "stdout",
     "output_type": "stream",
     "text": [
      "<class 'pandas.core.frame.DataFrame'>\n",
      "RangeIndex: 91 entries, 0 to 90\n",
      "Data columns (total 8 columns):\n",
      " #   Column             Non-Null Count  Dtype  \n",
      "---  ------             --------------  -----  \n",
      " 0   Entrada/Saída      91 non-null     object \n",
      " 1   Data               91 non-null     object \n",
      " 2   Movimentação       91 non-null     object \n",
      " 3   Produto            91 non-null     object \n",
      " 4   Instituição        91 non-null     object \n",
      " 5   Quantidade         91 non-null     int64  \n",
      " 6   Preço unitário     91 non-null     float64\n",
      " 7   Valor da Operação  91 non-null     float64\n",
      "dtypes: float64(2), int64(1), object(5)\n",
      "memory usage: 5.8+ KB\n"
     ]
    }
   ],
   "source": [
    "df.info()"
   ]
  },
  {
   "cell_type": "markdown",
   "id": "b3030a44-e941-4764-9952-8fe19d9ed5fc",
   "metadata": {
    "jp-MarkdownHeadingCollapsed": true,
    "tags": []
   },
   "source": [
    "##### Trata os dados das colunas ('Preço unitário', 'Valor da Operação', 'Produto')"
   ]
  },
  {
   "cell_type": "code",
   "execution_count": 13,
   "id": "574a23d8-ff4b-403b-8143-291425c3c725",
   "metadata": {},
   "outputs": [],
   "source": [
    "df['Preço unitário'] = df['Preço unitário'].apply(lambda x : str(x).replace(\"-\", \"0\"))\n",
    "df['Valor da Operação'] = df['Valor da Operação'].apply(lambda x : str(x).replace(\"-\", \"0\"))\n",
    "df[\"Produto\"] = df[\"Produto\"].str.split(\"-\").str.get(0).str.strip()"
   ]
  },
  {
   "cell_type": "markdown",
   "id": "ee1f4f63-a464-4112-a92c-996fa79d114d",
   "metadata": {
    "jp-MarkdownHeadingCollapsed": true,
    "tags": []
   },
   "source": [
    "##### Converte as colunas ('Preço unitário', 'Valor da Operação') para o float"
   ]
  },
  {
   "cell_type": "code",
   "execution_count": 14,
   "id": "748d02f1-8864-4285-8a47-05da1682a157",
   "metadata": {},
   "outputs": [],
   "source": [
    "df['Preço unitário'] =df['Preço unitário'].astype('float64')\n",
    "df['Valor da Operação'] =df['Valor da Operação'].astype('float64')"
   ]
  },
  {
   "cell_type": "markdown",
   "id": "d57e43c8-790b-4fb4-aad7-bca04a2db427",
   "metadata": {
    "tags": []
   },
   "source": [
    "##### Converte a coluna ('Data') para o tipo Date"
   ]
  },
  {
   "cell_type": "code",
   "execution_count": 15,
   "id": "4c35a7e1-3c2e-40d5-afdf-c6ab4c6fc311",
   "metadata": {},
   "outputs": [],
   "source": [
    "df['Data'] = pd.to_datetime(df['Data'], infer_datetime_format=True)"
   ]
  },
  {
   "cell_type": "markdown",
   "id": "5b239b2b-58c7-47a7-b399-6eb6e4c62b59",
   "metadata": {
    "jp-MarkdownHeadingCollapsed": true,
    "tags": []
   },
   "source": [
    "##### Count"
   ]
  },
  {
   "cell_type": "code",
   "execution_count": 16,
   "id": "a3f971ae-9483-42cd-a112-fd6c7f5c5dbc",
   "metadata": {},
   "outputs": [
    {
     "data": {
      "text/plain": [
       "Entrada/Saída        91\n",
       "Data                 91\n",
       "Movimentação         91\n",
       "Produto              91\n",
       "Instituição          91\n",
       "Quantidade           91\n",
       "Preço unitário       91\n",
       "Valor da Operação    91\n",
       "dtype: int64"
      ]
     },
     "execution_count": 16,
     "metadata": {},
     "output_type": "execute_result"
    }
   ],
   "source": [
    "df.count()"
   ]
  },
  {
   "cell_type": "markdown",
   "id": "e9621208-fc07-4805-80b1-3125cea39a51",
   "metadata": {
    "jp-MarkdownHeadingCollapsed": true,
    "tags": []
   },
   "source": [
    "##### Discribe"
   ]
  },
  {
   "cell_type": "code",
   "execution_count": 17,
   "id": "0d67e74f-8afa-4adc-ba05-0a8568792a42",
   "metadata": {},
   "outputs": [
    {
     "data": {
      "text/html": [
       "<div>\n",
       "<style scoped>\n",
       "    .dataframe tbody tr th:only-of-type {\n",
       "        vertical-align: middle;\n",
       "    }\n",
       "\n",
       "    .dataframe tbody tr th {\n",
       "        vertical-align: top;\n",
       "    }\n",
       "\n",
       "    .dataframe thead th {\n",
       "        text-align: right;\n",
       "    }\n",
       "</style>\n",
       "<table border=\"1\" class=\"dataframe\">\n",
       "  <thead>\n",
       "    <tr style=\"text-align: right;\">\n",
       "      <th></th>\n",
       "      <th>Quantidade</th>\n",
       "      <th>Preço unitário</th>\n",
       "      <th>Valor da Operação</th>\n",
       "    </tr>\n",
       "  </thead>\n",
       "  <tbody>\n",
       "    <tr>\n",
       "      <th>count</th>\n",
       "      <td>91.000000</td>\n",
       "      <td>91.000000</td>\n",
       "      <td>91.000000</td>\n",
       "    </tr>\n",
       "    <tr>\n",
       "      <th>mean</th>\n",
       "      <td>22.461538</td>\n",
       "      <td>17.696593</td>\n",
       "      <td>150.782308</td>\n",
       "    </tr>\n",
       "    <tr>\n",
       "      <th>std</th>\n",
       "      <td>52.466986</td>\n",
       "      <td>24.136973</td>\n",
       "      <td>208.406332</td>\n",
       "    </tr>\n",
       "    <tr>\n",
       "      <th>min</th>\n",
       "      <td>1.000000</td>\n",
       "      <td>0.010000</td>\n",
       "      <td>0.100000</td>\n",
       "    </tr>\n",
       "    <tr>\n",
       "      <th>25%</th>\n",
       "      <td>10.000000</td>\n",
       "      <td>0.915000</td>\n",
       "      <td>9.155000</td>\n",
       "    </tr>\n",
       "    <tr>\n",
       "      <th>50%</th>\n",
       "      <td>10.000000</td>\n",
       "      <td>6.350000</td>\n",
       "      <td>92.290000</td>\n",
       "    </tr>\n",
       "    <tr>\n",
       "      <th>75%</th>\n",
       "      <td>15.000000</td>\n",
       "      <td>26.740000</td>\n",
       "      <td>212.015000</td>\n",
       "    </tr>\n",
       "    <tr>\n",
       "      <th>max</th>\n",
       "      <td>360.000000</td>\n",
       "      <td>131.950000</td>\n",
       "      <td>1432.760000</td>\n",
       "    </tr>\n",
       "  </tbody>\n",
       "</table>\n",
       "</div>"
      ],
      "text/plain": [
       "       Quantidade  Preço unitário  Valor da Operação\n",
       "count   91.000000       91.000000          91.000000\n",
       "mean    22.461538       17.696593         150.782308\n",
       "std     52.466986       24.136973         208.406332\n",
       "min      1.000000        0.010000           0.100000\n",
       "25%     10.000000        0.915000           9.155000\n",
       "50%     10.000000        6.350000          92.290000\n",
       "75%     15.000000       26.740000         212.015000\n",
       "max    360.000000      131.950000        1432.760000"
      ]
     },
     "execution_count": 17,
     "metadata": {},
     "output_type": "execute_result"
    }
   ],
   "source": [
    "df.describe()"
   ]
  },
  {
   "cell_type": "markdown",
   "id": "825e2d28-5a39-497b-8f11-f79d4006d408",
   "metadata": {
    "jp-MarkdownHeadingCollapsed": true,
    "tags": []
   },
   "source": [
    "##### Remove a coluna \"Instituição\" e exibe "
   ]
  },
  {
   "cell_type": "code",
   "execution_count": 18,
   "id": "d6cab1f5-a3ce-432d-9b50-1f9a38a2db41",
   "metadata": {},
   "outputs": [],
   "source": [
    "df.drop(['Instituição'], axis=1, inplace=True)"
   ]
  },
  {
   "cell_type": "markdown",
   "id": "235164e5-76f9-4d79-b6ba-505fcf86ac1a",
   "metadata": {},
   "source": [
    "##### Agrupa por tipo de movimentação"
   ]
  },
  {
   "cell_type": "code",
   "execution_count": 19,
   "id": "770f8b75-bf86-48d5-b937-19130c6a827c",
   "metadata": {},
   "outputs": [
    {
     "data": {
      "text/html": [
       "<div>\n",
       "<style scoped>\n",
       "    .dataframe tbody tr th:only-of-type {\n",
       "        vertical-align: middle;\n",
       "    }\n",
       "\n",
       "    .dataframe tbody tr th {\n",
       "        vertical-align: top;\n",
       "    }\n",
       "\n",
       "    .dataframe thead th {\n",
       "        text-align: right;\n",
       "    }\n",
       "</style>\n",
       "<table border=\"1\" class=\"dataframe\">\n",
       "  <thead>\n",
       "    <tr style=\"text-align: right;\">\n",
       "      <th></th>\n",
       "      <th>Quantidade</th>\n",
       "      <th>Preço unitário</th>\n",
       "      <th>Valor da Operação</th>\n",
       "    </tr>\n",
       "    <tr>\n",
       "      <th>Movimentação</th>\n",
       "      <th></th>\n",
       "      <th></th>\n",
       "      <th></th>\n",
       "    </tr>\n",
       "  </thead>\n",
       "  <tbody>\n",
       "    <tr>\n",
       "      <th>Dividendo</th>\n",
       "      <td>90</td>\n",
       "      <td>2.67</td>\n",
       "      <td>32.76</td>\n",
       "    </tr>\n",
       "    <tr>\n",
       "      <th>Juros Sobre Capital Próprio</th>\n",
       "      <td>422</td>\n",
       "      <td>0.14</td>\n",
       "      <td>27.73</td>\n",
       "    </tr>\n",
       "    <tr>\n",
       "      <th>Rendimento</th>\n",
       "      <td>304</td>\n",
       "      <td>9.20</td>\n",
       "      <td>115.49</td>\n",
       "    </tr>\n",
       "    <tr>\n",
       "      <th>Transferência - Liquidação</th>\n",
       "      <td>1228</td>\n",
       "      <td>1598.38</td>\n",
       "      <td>13545.21</td>\n",
       "    </tr>\n",
       "  </tbody>\n",
       "</table>\n",
       "</div>"
      ],
      "text/plain": [
       "                             Quantidade  Preço unitário  Valor da Operação\n",
       "Movimentação                                                              \n",
       "Dividendo                            90            2.67              32.76\n",
       "Juros Sobre Capital Próprio         422            0.14              27.73\n",
       "Rendimento                          304            9.20             115.49\n",
       "Transferência - Liquidação         1228         1598.38           13545.21"
      ]
     },
     "execution_count": 19,
     "metadata": {},
     "output_type": "execute_result"
    }
   ],
   "source": [
    "df_sum_Movimentacao = df.groupby([\"Movimentação\"]).sum()  \n",
    "df_sum_Movimentacao"
   ]
  },
  {
   "cell_type": "markdown",
   "id": "52fbe1ea-8764-44ea-92cc-deb04b93cc4a",
   "metadata": {},
   "source": [
    "##### Filtra as informações da coluna movimentações\n"
   ]
  },
  {
   "cell_type": "code",
   "execution_count": 20,
   "id": "4260ea06-6540-4f6a-8a42-62551ee4e5ff",
   "metadata": {},
   "outputs": [
    {
     "name": "stdout",
     "output_type": "stream",
     "text": [
      "Entrada/Saída        CreditoCreditoCreditoCreditoCreditoCreditoCred...\n",
      "Movimentação         RendimentoDividendoJuros Sobre Capital Próprio...\n",
      "Produto              WTSP11BWEGE3WEGE3WEGE3BCFF11BRCR11BTCR11MXRF11...\n",
      "Quantidade                                                         816\n",
      "Preço unitário                                                   12.01\n",
      "Valor da Operação                                               175.98\n",
      "dtype: object\n"
     ]
    }
   ],
   "source": [
    "types_incomes = ['Juros Sobre Capital Próprio','Rendimento', 'Dividendo']\n",
    "df_income_only = df[df['Movimentação'].isin(types_incomes)]\n",
    "print(df_income_only.sum());"
   ]
  },
  {
   "cell_type": "markdown",
   "id": "cd4f47b5-2431-4bf3-8616-b1b28ad49dad",
   "metadata": {},
   "source": [
    "## "
   ]
  },
  {
   "cell_type": "markdown",
   "id": "fcbf79f0-3cc2-4d36-b0ed-c92135772115",
   "metadata": {},
   "source": [
    "##### Exibir rendimentos agrupado por mês"
   ]
  },
  {
   "cell_type": "code",
   "execution_count": 21,
   "id": "fe5a2ee7-3df0-42a1-a09b-ab0c7124b8df",
   "metadata": {},
   "outputs": [
    {
     "data": {
      "text/html": [
       "<div>\n",
       "<style scoped>\n",
       "    .dataframe tbody tr th:only-of-type {\n",
       "        vertical-align: middle;\n",
       "    }\n",
       "\n",
       "    .dataframe tbody tr th {\n",
       "        vertical-align: top;\n",
       "    }\n",
       "\n",
       "    .dataframe thead th {\n",
       "        text-align: right;\n",
       "    }\n",
       "</style>\n",
       "<table border=\"1\" class=\"dataframe\">\n",
       "  <thead>\n",
       "    <tr style=\"text-align: right;\">\n",
       "      <th></th>\n",
       "      <th></th>\n",
       "      <th>Quantidade</th>\n",
       "      <th>Valor da Operação</th>\n",
       "    </tr>\n",
       "    <tr>\n",
       "      <th>Ano</th>\n",
       "      <th>Mes</th>\n",
       "      <th></th>\n",
       "      <th></th>\n",
       "    </tr>\n",
       "  </thead>\n",
       "  <tbody>\n",
       "    <tr>\n",
       "      <th rowspan=\"3\" valign=\"top\">2022</th>\n",
       "      <th>1</th>\n",
       "      <td>82</td>\n",
       "      <td>31.46</td>\n",
       "    </tr>\n",
       "    <tr>\n",
       "      <th>2</th>\n",
       "      <td>495</td>\n",
       "      <td>87.27</td>\n",
       "    </tr>\n",
       "    <tr>\n",
       "      <th>3</th>\n",
       "      <td>239</td>\n",
       "      <td>57.25</td>\n",
       "    </tr>\n",
       "  </tbody>\n",
       "</table>\n",
       "</div>"
      ],
      "text/plain": [
       "          Quantidade  Valor da Operação\n",
       "Ano  Mes                               \n",
       "2022 1            82              31.46\n",
       "     2           495              87.27\n",
       "     3           239              57.25"
      ]
     },
     "execution_count": 21,
     "metadata": {},
     "output_type": "execute_result"
    }
   ],
   "source": [
    "show_columns = ['Data', 'Quantidade', 'Valor da Operação']\n",
    "df_income_only.groupby([df['Data'].dt.year.rename('Ano'), df['Data'].dt.month.rename('Mes')])[show_columns].sum()  \n"
   ]
  },
  {
   "cell_type": "markdown",
   "id": "07f38d11",
   "metadata": {},
   "source": [
    "##### Exibe rendimentos agrupado por  Período e por Produto"
   ]
  },
  {
   "cell_type": "code",
   "execution_count": 22,
   "id": "411b8006-a5d2-4457-b45c-d81ee308eb1d",
   "metadata": {},
   "outputs": [
    {
     "data": {
      "text/html": [
       "<div>\n",
       "<style scoped>\n",
       "    .dataframe tbody tr th:only-of-type {\n",
       "        vertical-align: middle;\n",
       "    }\n",
       "\n",
       "    .dataframe tbody tr th {\n",
       "        vertical-align: top;\n",
       "    }\n",
       "\n",
       "    .dataframe thead th {\n",
       "        text-align: right;\n",
       "    }\n",
       "</style>\n",
       "<table border=\"1\" class=\"dataframe\">\n",
       "  <thead>\n",
       "    <tr style=\"text-align: right;\">\n",
       "      <th></th>\n",
       "      <th></th>\n",
       "      <th></th>\n",
       "      <th>Quantidade</th>\n",
       "      <th>Preço unitário</th>\n",
       "      <th>Valor da Operação</th>\n",
       "    </tr>\n",
       "    <tr>\n",
       "      <th>Ano</th>\n",
       "      <th>Mes</th>\n",
       "      <th>Produto</th>\n",
       "      <th></th>\n",
       "      <th></th>\n",
       "      <th></th>\n",
       "    </tr>\n",
       "  </thead>\n",
       "  <tbody>\n",
       "    <tr>\n",
       "      <th rowspan=\"23\" valign=\"top\">2022</th>\n",
       "      <th rowspan=\"5\" valign=\"top\">1</th>\n",
       "      <th>BCFF11</th>\n",
       "      <td>12</td>\n",
       "      <td>0.54</td>\n",
       "      <td>6.51</td>\n",
       "    </tr>\n",
       "    <tr>\n",
       "      <th>BRCR11</th>\n",
       "      <td>2</td>\n",
       "      <td>0.50</td>\n",
       "      <td>1.00</td>\n",
       "    </tr>\n",
       "    <tr>\n",
       "      <th>BTCR11</th>\n",
       "      <td>20</td>\n",
       "      <td>0.91</td>\n",
       "      <td>18.27</td>\n",
       "    </tr>\n",
       "    <tr>\n",
       "      <th>MXRF11</th>\n",
       "      <td>46</td>\n",
       "      <td>0.09</td>\n",
       "      <td>4.14</td>\n",
       "    </tr>\n",
       "    <tr>\n",
       "      <th>SADI11</th>\n",
       "      <td>2</td>\n",
       "      <td>0.77</td>\n",
       "      <td>1.54</td>\n",
       "    </tr>\n",
       "    <tr>\n",
       "      <th rowspan=\"9\" valign=\"top\">2</th>\n",
       "      <th>BBSE3</th>\n",
       "      <td>20</td>\n",
       "      <td>0.93</td>\n",
       "      <td>9.27</td>\n",
       "    </tr>\n",
       "    <tr>\n",
       "      <th>BCFF11</th>\n",
       "      <td>12</td>\n",
       "      <td>0.54</td>\n",
       "      <td>6.48</td>\n",
       "    </tr>\n",
       "    <tr>\n",
       "      <th>BRCR11</th>\n",
       "      <td>11</td>\n",
       "      <td>0.50</td>\n",
       "      <td>5.50</td>\n",
       "    </tr>\n",
       "    <tr>\n",
       "      <th>BTCR11</th>\n",
       "      <td>20</td>\n",
       "      <td>1.05</td>\n",
       "      <td>21.00</td>\n",
       "    </tr>\n",
       "    <tr>\n",
       "      <th>CIEL3</th>\n",
       "      <td>352</td>\n",
       "      <td>0.09</td>\n",
       "      <td>26.11</td>\n",
       "    </tr>\n",
       "    <tr>\n",
       "      <th>KLBN11</th>\n",
       "      <td>10</td>\n",
       "      <td>0.34</td>\n",
       "      <td>3.43</td>\n",
       "    </tr>\n",
       "    <tr>\n",
       "      <th>LOGG3</th>\n",
       "      <td>10</td>\n",
       "      <td>0.87</td>\n",
       "      <td>8.66</td>\n",
       "    </tr>\n",
       "    <tr>\n",
       "      <th>MXRF11</th>\n",
       "      <td>58</td>\n",
       "      <td>0.09</td>\n",
       "      <td>5.22</td>\n",
       "    </tr>\n",
       "    <tr>\n",
       "      <th>SADI11</th>\n",
       "      <td>2</td>\n",
       "      <td>0.80</td>\n",
       "      <td>1.60</td>\n",
       "    </tr>\n",
       "    <tr>\n",
       "      <th rowspan=\"9\" valign=\"top\">3</th>\n",
       "      <th>BCFF11</th>\n",
       "      <td>12</td>\n",
       "      <td>0.54</td>\n",
       "      <td>6.48</td>\n",
       "    </tr>\n",
       "    <tr>\n",
       "      <th>BRCR11</th>\n",
       "      <td>14</td>\n",
       "      <td>0.50</td>\n",
       "      <td>7.00</td>\n",
       "    </tr>\n",
       "    <tr>\n",
       "      <th>BTCR11</th>\n",
       "      <td>21</td>\n",
       "      <td>1.10</td>\n",
       "      <td>23.10</td>\n",
       "    </tr>\n",
       "    <tr>\n",
       "      <th>JHSF3</th>\n",
       "      <td>10</td>\n",
       "      <td>0.16</td>\n",
       "      <td>1.60</td>\n",
       "    </tr>\n",
       "    <tr>\n",
       "      <th>MXRF11</th>\n",
       "      <td>58</td>\n",
       "      <td>0.09</td>\n",
       "      <td>5.22</td>\n",
       "    </tr>\n",
       "    <tr>\n",
       "      <th>SADI11</th>\n",
       "      <td>2</td>\n",
       "      <td>0.85</td>\n",
       "      <td>1.70</td>\n",
       "    </tr>\n",
       "    <tr>\n",
       "      <th>UGPA3</th>\n",
       "      <td>10</td>\n",
       "      <td>0.17</td>\n",
       "      <td>1.70</td>\n",
       "    </tr>\n",
       "    <tr>\n",
       "      <th>WEGE3</th>\n",
       "      <td>110</td>\n",
       "      <td>0.26</td>\n",
       "      <td>9.82</td>\n",
       "    </tr>\n",
       "    <tr>\n",
       "      <th>WTSP11B</th>\n",
       "      <td>2</td>\n",
       "      <td>0.32</td>\n",
       "      <td>0.63</td>\n",
       "    </tr>\n",
       "  </tbody>\n",
       "</table>\n",
       "</div>"
      ],
      "text/plain": [
       "                  Quantidade  Preço unitário  Valor da Operação\n",
       "Ano  Mes Produto                                               \n",
       "2022 1   BCFF11           12            0.54               6.51\n",
       "         BRCR11            2            0.50               1.00\n",
       "         BTCR11           20            0.91              18.27\n",
       "         MXRF11           46            0.09               4.14\n",
       "         SADI11            2            0.77               1.54\n",
       "     2   BBSE3            20            0.93               9.27\n",
       "         BCFF11           12            0.54               6.48\n",
       "         BRCR11           11            0.50               5.50\n",
       "         BTCR11           20            1.05              21.00\n",
       "         CIEL3           352            0.09              26.11\n",
       "         KLBN11           10            0.34               3.43\n",
       "         LOGG3            10            0.87               8.66\n",
       "         MXRF11           58            0.09               5.22\n",
       "         SADI11            2            0.80               1.60\n",
       "     3   BCFF11           12            0.54               6.48\n",
       "         BRCR11           14            0.50               7.00\n",
       "         BTCR11           21            1.10              23.10\n",
       "         JHSF3            10            0.16               1.60\n",
       "         MXRF11           58            0.09               5.22\n",
       "         SADI11            2            0.85               1.70\n",
       "         UGPA3            10            0.17               1.70\n",
       "         WEGE3           110            0.26               9.82\n",
       "         WTSP11B           2            0.32               0.63"
      ]
     },
     "execution_count": 22,
     "metadata": {},
     "output_type": "execute_result"
    }
   ],
   "source": [
    "df_grupby_produto_period = df_income_only.groupby([df['Data'].dt.year.rename('Ano'), df['Data'].dt.month.rename('Mes'), df['Produto']]).sum()  \n",
    "df_grupby_produto_period.head(100)"
   ]
  },
  {
   "cell_type": "markdown",
   "id": "8781b82f",
   "metadata": {},
   "source": [
    "##### Valor da operação Agrupapado por produto"
   ]
  },
  {
   "cell_type": "code",
   "execution_count": 23,
   "id": "a165a5c7",
   "metadata": {},
   "outputs": [
    {
     "data": {
      "text/html": [
       "<div>\n",
       "<style scoped>\n",
       "    .dataframe tbody tr th:only-of-type {\n",
       "        vertical-align: middle;\n",
       "    }\n",
       "\n",
       "    .dataframe tbody tr th {\n",
       "        vertical-align: top;\n",
       "    }\n",
       "\n",
       "    .dataframe thead th {\n",
       "        text-align: right;\n",
       "    }\n",
       "</style>\n",
       "<table border=\"1\" class=\"dataframe\">\n",
       "  <thead>\n",
       "    <tr style=\"text-align: right;\">\n",
       "      <th></th>\n",
       "      <th>Valor da Operação</th>\n",
       "    </tr>\n",
       "    <tr>\n",
       "      <th>Produto</th>\n",
       "      <th></th>\n",
       "    </tr>\n",
       "  </thead>\n",
       "  <tbody>\n",
       "    <tr>\n",
       "      <th>BBSE3</th>\n",
       "      <td>9.27</td>\n",
       "    </tr>\n",
       "    <tr>\n",
       "      <th>BCFF11</th>\n",
       "      <td>19.47</td>\n",
       "    </tr>\n",
       "    <tr>\n",
       "      <th>BRCR11</th>\n",
       "      <td>13.50</td>\n",
       "    </tr>\n",
       "    <tr>\n",
       "      <th>BTCR11</th>\n",
       "      <td>62.37</td>\n",
       "    </tr>\n",
       "    <tr>\n",
       "      <th>CIEL3</th>\n",
       "      <td>26.11</td>\n",
       "    </tr>\n",
       "    <tr>\n",
       "      <th>JHSF3</th>\n",
       "      <td>1.60</td>\n",
       "    </tr>\n",
       "    <tr>\n",
       "      <th>KLBN11</th>\n",
       "      <td>3.43</td>\n",
       "    </tr>\n",
       "    <tr>\n",
       "      <th>LOGG3</th>\n",
       "      <td>8.66</td>\n",
       "    </tr>\n",
       "    <tr>\n",
       "      <th>MXRF11</th>\n",
       "      <td>14.58</td>\n",
       "    </tr>\n",
       "    <tr>\n",
       "      <th>SADI11</th>\n",
       "      <td>4.84</td>\n",
       "    </tr>\n",
       "    <tr>\n",
       "      <th>UGPA3</th>\n",
       "      <td>1.70</td>\n",
       "    </tr>\n",
       "    <tr>\n",
       "      <th>WEGE3</th>\n",
       "      <td>9.82</td>\n",
       "    </tr>\n",
       "    <tr>\n",
       "      <th>WTSP11B</th>\n",
       "      <td>0.63</td>\n",
       "    </tr>\n",
       "  </tbody>\n",
       "</table>\n",
       "</div>"
      ],
      "text/plain": [
       "         Valor da Operação\n",
       "Produto                   \n",
       "BBSE3                 9.27\n",
       "BCFF11               19.47\n",
       "BRCR11               13.50\n",
       "BTCR11               62.37\n",
       "CIEL3                26.11\n",
       "JHSF3                 1.60\n",
       "KLBN11                3.43\n",
       "LOGG3                 8.66\n",
       "MXRF11               14.58\n",
       "SADI11                4.84\n",
       "UGPA3                 1.70\n",
       "WEGE3                 9.82\n",
       "WTSP11B               0.63"
      ]
     },
     "execution_count": 23,
     "metadata": {},
     "output_type": "execute_result"
    }
   ],
   "source": [
    "df_by_product = df_income_only.groupby([df['Produto']])['Produto','Valor da Operação'].sum()\n",
    "df_by_product"
   ]
  },
  {
   "cell_type": "markdown",
   "id": "81750d02",
   "metadata": {},
   "source": [
    "##### Gráfico - Rendimentos Agrupapado por produto"
   ]
  },
  {
   "cell_type": "code",
   "execution_count": 24,
   "id": "aa1b22b0",
   "metadata": {},
   "outputs": [
    {
     "data": {
      "image/png": "[encoded data removed]",
      "text/plain": [
       "<Figure size 1008x576 with 1 Axes>"
      ]
     },
     "metadata": {
      "needs_background": "light"
     },
     "output_type": "display_data"
    }
   ],
   "source": [
    "df_by_product = df_by_product.sort_values(['Valor da Operação'], ascending=False)\n",
    "\n",
    "colors = ['#5cb85c', '#5bc0de', '#d9534f']\n",
    "p1 = df_by_product.plot(kind='bar', color=colors, figsize=(14, 8), rot=0, width=0.8, ylabel='Valor', title=\"Ações x Rendimento\")\n",
    "\n",
    "for p in p1.containers:\n",
    "    p1.bar_label(p, fmt='R$ %.2f', label_type='edge')\n"
   ]
  },
  {
   "cell_type": "markdown",
   "id": "012f1b23",
   "metadata": {},
   "source": [
    "##### Dividendos Mensais"
   ]
  },
  {
   "cell_type": "code",
   "execution_count": 25,
   "id": "f98381f3",
   "metadata": {},
   "outputs": [
    {
     "data": {
      "text/plain": [
       "Produto  Data   \n",
       "BBSE3    02/2022     9.27\n",
       "BCFF11   01/2022     6.51\n",
       "         02/2022     6.48\n",
       "         03/2022     6.48\n",
       "BRCR11   01/2022     1.00\n",
       "         02/2022     5.50\n",
       "         03/2022     7.00\n",
       "BTCR11   01/2022    18.27\n",
       "         02/2022    21.00\n",
       "         03/2022    23.10\n",
       "CIEL3    02/2022    26.11\n",
       "JHSF3    03/2022     1.60\n",
       "KLBN11   02/2022     3.43\n",
       "LOGG3    02/2022     8.66\n",
       "MXRF11   01/2022     4.14\n",
       "         02/2022     5.22\n",
       "         03/2022     5.22\n",
       "SADI11   01/2022     1.54\n",
       "         02/2022     1.60\n",
       "         03/2022     1.70\n",
       "UGPA3    03/2022     1.70\n",
       "WEGE3    03/2022     9.82\n",
       "WTSP11B  03/2022     0.63\n",
       "Name: Valor da Operação, dtype: float64"
      ]
     },
     "execution_count": 25,
     "metadata": {},
     "output_type": "execute_result"
    }
   ],
   "source": [
    "df_by_products_monthly_income = df_income_only.groupby([df_income_only['Produto'], df_income_only['Data'].dt.strftime('%m/%Y') ],  as_index=True)['Valor da Operação'].sum()  \n",
    "# df_by_products_monthly_income = df_income_only.groupby([df_income_only['Data'].dt.month.rename('ju'), df_income_only['Produto']],  as_index=True)['Preço unitário'].sum()  \n",
    "\n",
    "df_by_products_monthly_income\n",
    "# print(df_by_products_monthly_income)\n",
    "# df_income_only.info()\n",
    "\n",
    "# df_by_products_monthly_income[df_by_products_monthly_income['Produto'].isin(['BCFF11'])]\n",
    "\n",
    "\n",
    "\n",
    "# print(df_by_products_monthly_income.loc[(df_by_products_monthly_income.index.get_loc ) ])\n",
    "# # df_by_products_monthly_income.loc['BCFF11']:\n",
    "\n",
    "# df_by_products_monthly_income.plot(kind='bar', color=colors, figsize=(14, 8), rot=0, width=0.8, ylabel='Valor', title=\"Ações x Rendimento\")"
   ]
  },
  {
   "cell_type": "markdown",
   "id": "950f5fb7",
   "metadata": {},
   "source": [
    "##### Exemplo de Gráfico com Multiplas Colunas"
   ]
  },
  {
   "cell_type": "code",
   "execution_count": 26,
   "id": "14252acc",
   "metadata": {},
   "outputs": [
    {
     "data": {
      "image/png": "[encoded data removed]",
      "text/plain": [
       "<Figure size 1008x576 with 1 Axes>"
      ]
     },
     "metadata": {
      "needs_background": "light"
     },
     "output_type": "display_data"
    }
   ],
   "source": [
    "data=[[\"BTCR11\",23.00,156.25,70.00],\n",
    "      [\"MGLU3\",20,136,60],\n",
    "      [\"WEGE3\",15,100,35],\n",
    "      [\"CIEL3\",30,150,85]\n",
    "     ]\n",
    "\n",
    "colors = ['#1B98E0', '#006494', '#13293D']\n",
    "\n",
    "df=pd.DataFrame(data,columns=[\"Ações\",\"2019\", \"2020\", \"2021\"])\n",
    "p2 = df.plot(x=\"Ações\",  kind='bar', color=colors, figsize=(14, 8), rot=0, width=0.8,  ylabel='Valor', title=\"Ações x Rendimento\")\n",
    "\n",
    "for p in p2.containers:\n",
    "    p2.bar_label(p, fmt='R$ %.2f', label_type='edge')\n"
   ]
  },
  {
   "cell_type": "code",
   "execution_count": 27,
   "id": "bc8f1f19",
   "metadata": {},
   "outputs": [
    {
     "data": {
      "image/png": "[encoded data removed]",
      "text/plain": [
       "<Figure size 432x288 with 1 Axes>"
      ]
     },
     "metadata": {},
     "output_type": "display_data"
    },
    {
     "data": {
      "text/plain": [
       "<AxesSubplot:ylabel='total_arrests'>"
      ]
     },
     "execution_count": 27,
     "metadata": {},
     "output_type": "execute_result"
    },
    {
     "data": {
      "image/png": "[encoded data removed]",
      "text/plain": [
       "<Figure size 1152x576 with 1 Axes>"
      ]
     },
     "metadata": {},
     "output_type": "display_data"
    }
   ],
   "source": [
    "df = pd.DataFrame({'Sex': ['female', 'male', 'female'], 'Smoke': [1, 3, 1]})\n",
    "\n",
    "df.Smoke.groupby(df.Sex).sum().plot(kind='pie')\n",
    "plt.axis('equal')\n",
    "plt.show()\n",
    "\n",
    "\n",
    "\n",
    "\n",
    "\n",
    "# sample data\n",
    "raw_data = {'officer_name': ['Jason', 'Molly', 'Tina', 'Jake', 'Amy'],\n",
    "        'jan_arrests': [4, 24, 31, 2, 3],\n",
    "        'feb_arrests': [25, 94, 57, 62, 70],\n",
    "        'march_arrests': [5, 43, 23, 23, 51]}\n",
    "df = pd.DataFrame(raw_data, columns = ['officer_name', 'jan_arrests', 'feb_arrests', 'march_arrests'])\n",
    "df['total_arrests'] = df['jan_arrests'] + df['feb_arrests'] + df['march_arrests']\n",
    "\n",
    "plt.figure(figsize=(16,8))\n",
    "# plot chart\n",
    "ax1 = plt.subplot(121, aspect='equal')\n",
    "df.plot(kind='pie', y = 'total_arrests', ax=ax1, autopct='%1.1f%%', \n",
    " startangle=90, shadow=False, labels=df['officer_name'], legend = False, fontsize=14)\n",
    "\n",
    "\n"
   ]
  },
  {
   "cell_type": "code",
   "execution_count": null,
   "id": "22cc4db6",
   "metadata": {},
   "outputs": [],
   "source": []
  }
 ],
 "metadata": {
  "kernelspec": {
   "display_name": "Python 3 (ipykernel)",
   "language": "python",
   "name": "python3"
  },
  "language_info": {
   "codemirror_mode": {
    "name": "ipython",
    "version": 3
   },
   "file_extension": ".py",
   "mimetype": "text/x-python",
   "name": "python",
   "nbconvert_exporter": "python",
   "pygments_lexer": "ipython3",
   "version": "3.9.7"
  }
 },
 "nbformat": 4,
 "nbformat_minor": 5
}
